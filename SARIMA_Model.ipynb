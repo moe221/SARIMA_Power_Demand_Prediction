{
 "cells": [
  {
   "cell_type": "code",
   "execution_count": 1,
   "metadata": {},
   "outputs": [
    {
     "data": {
      "text/html": [
       "        <script type=\"text/javascript\">\n",
       "        window.PlotlyConfig = {MathJaxConfig: 'local'};\n",
       "        if (window.MathJax) {MathJax.Hub.Config({SVG: {font: \"STIX-Web\"}});}\n",
       "        if (typeof require !== 'undefined') {\n",
       "        require.undef(\"plotly\");\n",
       "        requirejs.config({\n",
       "            paths: {\n",
       "                'plotly': ['https://cdn.plot.ly/plotly-latest.min']\n",
       "            }\n",
       "        });\n",
       "        require(['plotly'], function(Plotly) {\n",
       "            window._Plotly = Plotly;\n",
       "        });\n",
       "        }\n",
       "        </script>\n",
       "        "
      ]
     },
     "metadata": {},
     "output_type": "display_data"
    },
    {
     "data": {
      "text/html": [
       "        <script type=\"text/javascript\">\n",
       "        window.PlotlyConfig = {MathJaxConfig: 'local'};\n",
       "        if (window.MathJax) {MathJax.Hub.Config({SVG: {font: \"STIX-Web\"}});}\n",
       "        if (typeof require !== 'undefined') {\n",
       "        require.undef(\"plotly\");\n",
       "        requirejs.config({\n",
       "            paths: {\n",
       "                'plotly': ['https://cdn.plot.ly/plotly-latest.min']\n",
       "            }\n",
       "        });\n",
       "        require(['plotly'], function(Plotly) {\n",
       "            window._Plotly = Plotly;\n",
       "        });\n",
       "        }\n",
       "        </script>\n",
       "        "
      ]
     },
     "metadata": {},
     "output_type": "display_data"
    }
   ],
   "source": [
    "import numpy as np\n",
    "import pandas as pd\n",
    "import matplotlib.pyplot as plt\n",
    "import seaborn as sns\n",
    "sns.set()\n",
    "%matplotlib inline\n",
    "\n",
    "from datetime import datetime\n",
    "from datetime import timedelta\n",
    "from datetime import date\n",
    "\n",
    "from plotly import __version__\n",
    "from plotly.offline import download_plotlyjs, init_notebook_mode, plot, iplot\n",
    "import plotly.graph_objects as go\n",
    "from plotly.subplots import make_subplots\n",
    "import cufflinks as cf\n",
    "init_notebook_mode(connected=True)\n",
    "cf.go_offline()\n",
    "import plotly.express as px\n",
    "import chart_studio.plotly as py\n",
    "\n",
    "pd.set_option('display.max_columns', None)"
   ]
  },
  {
   "cell_type": "markdown",
   "metadata": {},
   "source": [
    "## Model Building and Forecasting\n",
    "\n",
    "In this section i will use a SARIMA model to try and forecast the daily power demand in kW for the entire building\n"
   ]
  },
  {
   "cell_type": "code",
   "execution_count": 2,
   "metadata": {},
   "outputs": [],
   "source": [
    "import statsmodels.api as sm\n",
    "from sklearn.linear_model import LinearRegression\n",
    "from sklearn.metrics import mean_squared_error\n",
    "\n",
    "from statsmodels.tsa.statespace.sarimax import SARIMAX\n",
    "from statsmodels.graphics.tsaplots import plot_acf, plot_pacf\n",
    "from statsmodels.tsa.stattools import adfuller"
   ]
  },
  {
   "cell_type": "code",
   "execution_count": 4,
   "metadata": {},
   "outputs": [],
   "source": [
    "df_power_daily = pd.read_csv('Data/df_power_daily.csv', index_col='Date')\n",
    "df_power_daily.index = pd.to_datetime(df_power_daily.index)"
   ]
  },
  {
   "cell_type": "code",
   "execution_count": 5,
   "metadata": {},
   "outputs": [
    {
     "data": {
      "text/html": [
       "<div>\n",
       "<style scoped>\n",
       "    .dataframe tbody tr th:only-of-type {\n",
       "        vertical-align: middle;\n",
       "    }\n",
       "\n",
       "    .dataframe tbody tr th {\n",
       "        vertical-align: top;\n",
       "    }\n",
       "\n",
       "    .dataframe thead th {\n",
       "        text-align: right;\n",
       "    }\n",
       "</style>\n",
       "<table border=\"1\" class=\"dataframe\">\n",
       "  <thead>\n",
       "    <tr style=\"text-align: right;\">\n",
       "      <th></th>\n",
       "      <th>kW</th>\n",
       "    </tr>\n",
       "    <tr>\n",
       "      <th>Date</th>\n",
       "      <th></th>\n",
       "    </tr>\n",
       "  </thead>\n",
       "  <tbody>\n",
       "    <tr>\n",
       "      <th>2018-07-01</th>\n",
       "      <td>3827.68</td>\n",
       "    </tr>\n",
       "    <tr>\n",
       "      <th>2018-07-02</th>\n",
       "      <td>9109.17</td>\n",
       "    </tr>\n",
       "    <tr>\n",
       "      <th>2018-07-03</th>\n",
       "      <td>8101.01</td>\n",
       "    </tr>\n",
       "    <tr>\n",
       "      <th>2018-07-04</th>\n",
       "      <td>7889.48</td>\n",
       "    </tr>\n",
       "    <tr>\n",
       "      <th>2018-07-05</th>\n",
       "      <td>7994.67</td>\n",
       "    </tr>\n",
       "  </tbody>\n",
       "</table>\n",
       "</div>"
      ],
      "text/plain": [
       "                 kW\n",
       "Date               \n",
       "2018-07-01  3827.68\n",
       "2018-07-02  9109.17\n",
       "2018-07-03  8101.01\n",
       "2018-07-04  7889.48\n",
       "2018-07-05  7994.67"
      ]
     },
     "execution_count": 5,
     "metadata": {},
     "output_type": "execute_result"
    }
   ],
   "source": [
    "df_power_daily_total = pd.DataFrame(df_power_daily.sum(axis = 1), columns = ['kW'])\n",
    "df_power_daily_total.head()"
   ]
  },
  {
   "cell_type": "markdown",
   "metadata": {},
   "source": [
    "### Testing if Time Series is stationary using ADF test"
   ]
  },
  {
   "cell_type": "code",
   "execution_count": 6,
   "metadata": {},
   "outputs": [
    {
     "name": "stdout",
     "output_type": "stream",
     "text": [
      "ADF Statistic: -2.964742\n",
      "p-value: 0.038321\n",
      "Critical Values: \n",
      "\t1%:  -3\n",
      "\t5%:  -3\n",
      "\t10%:  -3\n",
      "Reject Ho - Time Series is Stationary\n"
     ]
    }
   ],
   "source": [
    "from statsmodels.tsa.stattools import adfuller\n",
    "X = df_power_daily_total['kW'].values\n",
    "result = adfuller(X)\n",
    "print('ADF Statistic: %f' % result[0])\n",
    "print('p-value: %f' % result[1])\n",
    "print('Critical Values: ')\n",
    "for key, value in result[4].items():\n",
    "    print('\\t%s: %3.f' % (key, value))\n",
    "    \n",
    "if result[0] < result[4]['5%']:\n",
    "    print('Reject Ho - Time Series is Stationary')\n",
    "else:\n",
    "    print('Failed to Reject Ho - Time Series is non-Stationary')\n"
   ]
  },
  {
   "cell_type": "code",
   "execution_count": 7,
   "metadata": {},
   "outputs": [
    {
     "data": {
      "image/png": "[encoded data removed]",
      "text/plain": [
       "<Figure size 432x288 with 1 Axes>"
      ]
     },
     "metadata": {
      "needs_background": "light"
     },
     "output_type": "display_data"
    }
   ],
   "source": [
    "#Plot ACF\n",
    "acf_plot = plot_acf(df_power_daily_total['kW'], lags=50)"
   ]
  },
  {
   "cell_type": "code",
   "execution_count": 8,
   "metadata": {},
   "outputs": [
    {
     "data": {
      "image/png": "[encoded data removed]",
      "text/plain": [
       "<Figure size 432x288 with 1 Axes>"
      ]
     },
     "metadata": {
      "needs_background": "light"
     },
     "output_type": "display_data"
    }
   ],
   "source": [
    "#Plot PACF\n",
    "pacf_plot = plot_pacf(df_power_daily_total['kW'])"
   ]
  },
  {
   "cell_type": "code",
   "execution_count": 9,
   "metadata": {},
   "outputs": [],
   "source": [
    "# Train 70%\n",
    "train_end = df_power_daily_total.iloc[round(len(df_power_daily_total)*0.7)].name\n",
    "# Test 30%\n",
    "test_end = df_power_daily_total.iloc[-1].name"
   ]
  },
  {
   "cell_type": "code",
   "execution_count": 10,
   "metadata": {},
   "outputs": [],
   "source": [
    "#set training data - Use all values until train_end\n",
    "train_data = pd.DataFrame(columns = ['kW'],data = df_power_daily_total[:train_end])\n",
    "\n",
    "#set testing data - Use values from train_end +1 until test_end\n",
    "test_data = pd.DataFrame(columns = ['kW'], data = df_power_daily_total[train_end + timedelta(days = 1):test_end])"
   ]
  },
  {
   "cell_type": "code",
   "execution_count": 11,
   "metadata": {},
   "outputs": [],
   "source": [
    "#Save index of test_data to use later\n",
    "ind = test_data.index"
   ]
  },
  {
   "cell_type": "markdown",
   "metadata": {},
   "source": [
    "### Fitting SARIMA model"
   ]
  },
  {
   "cell_type": "code",
   "execution_count": 12,
   "metadata": {},
   "outputs": [],
   "source": [
    "#To avoid indexing error while predicting, reset index on both data sets\n",
    "train_data.reset_index(drop = True, inplace = True)\n",
    "test_data.reset_index(drop = True, inplace = True)"
   ]
  },
  {
   "cell_type": "code",
   "execution_count": 13,
   "metadata": {},
   "outputs": [],
   "source": [
    "#Drop all rows with null values\n",
    "train_data.dropna(inplace = True)"
   ]
  },
  {
   "cell_type": "code",
   "execution_count": 15,
   "metadata": {},
   "outputs": [],
   "source": [
    "my_order =(2,1,1)\n",
    "my_seasonal_order =(1,0,1,7)\n",
    "\n",
    "model = SARIMAX(train_data, order = my_order, seasonal_order = my_seasonal_order)"
   ]
  },
  {
   "cell_type": "code",
   "execution_count": 16,
   "metadata": {},
   "outputs": [
    {
     "name": "stdout",
     "output_type": "stream",
     "text": [
      "Model Fitting Time:  1.1648931503295898\n"
     ]
    }
   ],
   "source": [
    "## Fit model\n",
    "from time import time\n",
    "start = time()\n",
    "model_fit = model.fit()\n",
    "end = time()\n",
    "print('Model Fitting Time: ', end-start)"
   ]
  },
  {
   "cell_type": "code",
   "execution_count": 17,
   "metadata": {},
   "outputs": [
    {
     "name": "stdout",
     "output_type": "stream",
     "text": [
      "                                     SARIMAX Results                                     \n",
      "=========================================================================================\n",
      "Dep. Variable:                                kW   No. Observations:                  385\n",
      "Model:             SARIMAX(2, 1, 1)x(1, 0, 1, 7)   Log Likelihood               -3296.574\n",
      "Date:                           Mon, 08 Feb 2021   AIC                           6605.149\n",
      "Time:                                   23:19:51   BIC                           6628.852\n",
      "Sample:                                        0   HQIC                          6614.551\n",
      "                                           - 385                                         \n",
      "Covariance Type:                             opg                                         \n",
      "==============================================================================\n",
      "                 coef    std err          z      P>|z|      [0.025      0.975]\n",
      "------------------------------------------------------------------------------\n",
      "ar.L1          0.3913      0.041      9.558      0.000       0.311       0.472\n",
      "ar.L2         -0.1036      0.013     -8.002      0.000      -0.129      -0.078\n",
      "ma.L1         -0.9972      0.018    -54.604      0.000      -1.033      -0.961\n",
      "ar.S.L7        0.9999      0.001   1549.513      0.000       0.999       1.001\n",
      "ma.S.L7       -0.9904      0.057    -17.327      0.000      -1.102      -0.878\n",
      "sigma2      1.701e+06   2.84e-08   5.99e+13      0.000     1.7e+06     1.7e+06\n",
      "===================================================================================\n",
      "Ljung-Box (L1) (Q):                   1.88   Jarque-Bera (JB):               217.94\n",
      "Prob(Q):                              0.17   Prob(JB):                         0.00\n",
      "Heteroskedasticity (H):               1.77   Skew:                            -0.74\n",
      "Prob(H) (two-sided):                  0.00   Kurtosis:                         6.38\n",
      "===================================================================================\n",
      "\n",
      "Warnings:\n",
      "[1] Covariance matrix calculated using the outer product of gradients (complex-step).\n",
      "[2] Covariance matrix is singular or near-singular, with condition number 7.52e+28. Standard errors may be unstable.\n"
     ]
    }
   ],
   "source": [
    "print(model_fit.summary())"
   ]
  },
  {
   "cell_type": "code",
   "execution_count": 18,
   "metadata": {},
   "outputs": [],
   "source": [
    "#Set prediction preiod \n",
    "pred_start_date = test_data.index[0]\n",
    "pred_end_date = test_data.index[-1]"
   ]
  },
  {
   "cell_type": "code",
   "execution_count": 19,
   "metadata": {},
   "outputs": [],
   "source": [
    "predictions = model_fit.predict(start = pred_start_date, end = pred_end_date)"
   ]
  },
  {
   "cell_type": "code",
   "execution_count": 20,
   "metadata": {},
   "outputs": [],
   "source": [
    "#Create dataframe with Actual values, Predicted values and residuals\n",
    "df_pre = pd.DataFrame(columns= ['kW_Actual'],data = test_data.values,index = ind)\n",
    "df_pre['kW_Predicted'] = predictions.values\n",
    "df_pre['Residuals'] = df_pre['kW_Actual'] - df_pre['kW_Predicted']"
   ]
  },
  {
   "cell_type": "code",
   "execution_count": 21,
   "metadata": {},
   "outputs": [
    {
     "data": {
      "text/html": [
       "<div>\n",
       "<style scoped>\n",
       "    .dataframe tbody tr th:only-of-type {\n",
       "        vertical-align: middle;\n",
       "    }\n",
       "\n",
       "    .dataframe tbody tr th {\n",
       "        vertical-align: top;\n",
       "    }\n",
       "\n",
       "    .dataframe thead th {\n",
       "        text-align: right;\n",
       "    }\n",
       "</style>\n",
       "<table border=\"1\" class=\"dataframe\">\n",
       "  <thead>\n",
       "    <tr style=\"text-align: right;\">\n",
       "      <th></th>\n",
       "      <th>kW_Actual</th>\n",
       "      <th>kW_Predicted</th>\n",
       "      <th>Residuals</th>\n",
       "    </tr>\n",
       "    <tr>\n",
       "      <th>Date</th>\n",
       "      <th></th>\n",
       "      <th></th>\n",
       "      <th></th>\n",
       "    </tr>\n",
       "  </thead>\n",
       "  <tbody>\n",
       "    <tr>\n",
       "      <th>2019-07-21</th>\n",
       "      <td>3209.20</td>\n",
       "      <td>0.000000</td>\n",
       "      <td>3209.200000</td>\n",
       "    </tr>\n",
       "    <tr>\n",
       "      <th>2019-07-22</th>\n",
       "      <td>8463.83</td>\n",
       "      <td>3034.778299</td>\n",
       "      <td>5429.051701</td>\n",
       "    </tr>\n",
       "    <tr>\n",
       "      <th>2019-07-23</th>\n",
       "      <td>8706.77</td>\n",
       "      <td>6602.059097</td>\n",
       "      <td>2104.710903</td>\n",
       "    </tr>\n",
       "    <tr>\n",
       "      <th>2019-07-24</th>\n",
       "      <td>7381.35</td>\n",
       "      <td>6026.802088</td>\n",
       "      <td>1354.547912</td>\n",
       "    </tr>\n",
       "    <tr>\n",
       "      <th>2019-07-25</th>\n",
       "      <td>7517.54</td>\n",
       "      <td>6281.565579</td>\n",
       "      <td>1235.974421</td>\n",
       "    </tr>\n",
       "  </tbody>\n",
       "</table>\n",
       "</div>"
      ],
      "text/plain": [
       "            kW_Actual  kW_Predicted    Residuals\n",
       "Date                                            \n",
       "2019-07-21    3209.20      0.000000  3209.200000\n",
       "2019-07-22    8463.83   3034.778299  5429.051701\n",
       "2019-07-23    8706.77   6602.059097  2104.710903\n",
       "2019-07-24    7381.35   6026.802088  1354.547912\n",
       "2019-07-25    7517.54   6281.565579  1235.974421"
      ]
     },
     "execution_count": 21,
     "metadata": {},
     "output_type": "execute_result"
    }
   ],
   "source": [
    "df_pre.head()"
   ]
  },
  {
   "cell_type": "code",
   "execution_count": 22,
   "metadata": {},
   "outputs": [
    {
     "data": {
      "text/plain": [
       "<matplotlib.lines.Line2D at 0x23f1e3e98b0>"
      ]
     },
     "execution_count": 22,
     "metadata": {},
     "output_type": "execute_result"
    },
    {
     "data": {
      "image/png": "[encoded data removed]",
      "text/plain": [
       "<Figure size 720x288 with 1 Axes>"
      ]
     },
     "metadata": {
      "needs_background": "light"
     },
     "output_type": "display_data"
    }
   ],
   "source": [
    "#Plot residuals\n",
    "plt.figure(figsize = (10,4))\n",
    "plt.plot(df_pre['Residuals'])\n",
    "plt.title('Residuals from SARIMA Model', fontsize = 20)\n",
    "plt.ylabel('Error', fontsize = 16)\n",
    "plt.axhline(0, color = 'r', linestyle = '--', alpha = 0.2)"
   ]
  },
  {
   "cell_type": "code",
   "execution_count": 23,
   "metadata": {},
   "outputs": [
    {
     "data": {
      "application/vnd.plotly.v1+json": {
       "config": {
        "linkText": "Export to plot.ly",
        "plotlyServerURL": "https://plot.ly",
        "showLink": true
       },
       "data": [
        {
         "line": {
          "color": "rgba(255, 153, 51, 1.0)",
          "dash": "solid",
          "shape": "linear",
          "width": 1.3
         },
         "mode": "lines",
         "name": "kW_Actual",
         "text": "",
         "type": "scatter",
         "x": [
          "2019-07-21",
          "2019-07-22",
          "2019-07-23",
          "2019-07-24",
          "2019-07-25",
          "2019-07-26",
          "2019-07-27",
          "2019-07-28",
          "2019-07-29",
          "2019-07-30",
          "2019-07-31",
          "2019-08-01",
          "2019-08-02",
          "2019-08-03",
          "2019-08-04",
          "2019-08-05",
          "2019-08-06",
          "2019-08-07",
          "2019-08-08",
          "2019-08-09",
          "2019-08-10",
          "2019-08-11",
          "2019-08-12",
          "2019-08-13",
          "2019-08-14",
          "2019-08-15",
          "2019-08-16",
          "2019-08-17",
          "2019-08-18",
          "2019-08-19",
          "2019-08-20",
          "2019-08-21",
          "2019-08-22",
          "2019-08-23",
          "2019-08-24",
          "2019-08-25",
          "2019-08-26",
          "2019-08-27",
          "2019-08-28",
          "2019-08-29",
          "2019-08-30",
          "2019-08-31",
          "2019-09-01",
          "2019-09-02",
          "2019-09-03",
          "2019-09-04",
          "2019-09-05",
          "2019-09-06",
          "2019-09-07",
          "2019-09-08",
          "2019-09-09",
          "2019-09-10",
          "2019-09-11",
          "2019-09-12",
          "2019-09-13",
          "2019-09-14",
          "2019-09-15",
          "2019-09-16",
          "2019-09-17",
          "2019-09-18",
          "2019-09-19",
          "2019-09-20",
          "2019-09-21",
          "2019-09-22",
          "2019-09-23",
          "2019-09-24",
          "2019-09-25",
          "2019-09-26",
          "2019-09-27",
          "2019-09-28",
          "2019-09-29",
          "2019-09-30",
          "2019-10-01",
          "2019-10-02",
          "2019-10-03",
          "2019-10-04",
          "2019-10-05",
          "2019-10-06",
          "2019-10-07",
          "2019-10-08",
          "2019-10-09",
          "2019-10-10",
          "2019-10-11",
          "2019-10-12",
          "2019-10-13",
          "2019-10-14",
          "2019-10-15",
          "2019-10-16",
          "2019-10-17",
          "2019-10-18",
          "2019-10-19",
          "2019-10-20",
          "2019-10-21",
          "2019-10-22",
          "2019-10-23",
          "2019-10-24",
          "2019-10-25",
          "2019-10-26",
          "2019-10-27",
          "2019-10-28",
          "2019-10-29",
          "2019-10-30",
          "2019-10-31",
          "2019-11-01",
          "2019-11-02",
          "2019-11-03",
          "2019-11-04",
          "2019-11-05",
          "2019-11-06",
          "2019-11-07",
          "2019-11-08",
          "2019-11-09",
          "2019-11-10",
          "2019-11-11",
          "2019-11-12",
          "2019-11-13",
          "2019-11-14",
          "2019-11-15",
          "2019-11-16",
          "2019-11-17",
          "2019-11-18",
          "2019-11-19",
          "2019-11-20",
          "2019-11-21",
          "2019-11-22",
          "2019-11-23",
          "2019-11-24",
          "2019-11-25",
          "2019-11-26",
          "2019-11-27",
          "2019-11-28",
          "2019-11-29",
          "2019-11-30",
          "2019-12-01",
          "2019-12-02",
          "2019-12-03",
          "2019-12-04",
          "2019-12-05",
          "2019-12-06",
          "2019-12-07",
          "2019-12-08",
          "2019-12-09",
          "2019-12-10",
          "2019-12-11",
          "2019-12-12",
          "2019-12-13",
          "2019-12-14",
          "2019-12-15",
          "2019-12-16",
          "2019-12-17",
          "2019-12-18",
          "2019-12-19",
          "2019-12-20",
          "2019-12-21",
          "2019-12-22",
          "2019-12-23",
          "2019-12-24",
          "2019-12-25",
          "2019-12-26",
          "2019-12-27",
          "2019-12-28",
          "2019-12-29",
          "2019-12-30",
          "2019-12-31"
         ],
         "y": [
          3209.2000000000003,
          8463.83,
          8706.77,
          7381.35,
          7517.539999999999,
          7635.81,
          4129.790000000001,
          2488.04,
          2971.53,
          8435.76,
          8010.359999999999,
          6950.27,
          7368.570000000001,
          3887.6299999999997,
          2419.8500000000004,
          7060.84,
          7400.18,
          7049.160000000001,
          6999.29,
          7350.09,
          3450.8900000000003,
          2840.3199999999997,
          3173.3,
          8040.15,
          7589,
          6984.31,
          6910.99,
          2828.2000000000003,
          3804.9,
          8308.35,
          7961.740000000001,
          7706.48,
          7623.43,
          7585.470000000001,
          3923.0600000000004,
          2823.61,
          7881.07,
          8077.280000000001,
          7253.370000000001,
          7023.990000000001,
          6732.29,
          4737.95,
          3429.56,
          7326.79,
          7162.66,
          6474.58,
          6495.78,
          6971.379999999999,
          4038.2,
          3081.3800000000006,
          7271.9,
          7219.22,
          7083.61,
          6838.37,
          7190.9800000000005,
          3731.61,
          2402.47,
          5983.3099999999995,
          6934.420000000001,
          7326.549999999999,
          6949.5599999999995,
          6313.470000000001,
          3428.9399999999996,
          3009.83,
          6315.14,
          6738.329999999999,
          7101.35,
          7437.33,
          6877.360000000001,
          2762.03,
          2505.8499999999995,
          7709.12,
          7518.23,
          7469.57,
          7625.619999999999,
          6557.31,
          2843.19,
          1969.7700000000002,
          6949.450000000001,
          7128.4,
          6722.900000000001,
          6705.339999999999,
          6841.91,
          3275.07,
          2900.76,
          3018.98,
          8282.33,
          7456.110000000001,
          7382.9800000000005,
          7454.669999999999,
          3078.32,
          2827.73,
          7643.709999999999,
          7380.740000000001,
          2568.23,
          7071.56,
          7454.63,
          2990.46,
          3272.02,
          7407.84,
          6893.459999999999,
          6067.3099999999995,
          6140.37,
          6434.469999999999,
          3166.3100000000004,
          2994.559999999999,
          6350.4,
          6505.3099999999995,
          6744.18,
          6068.24,
          5856.209999999999,
          2337.5999999999995,
          2064.46,
          5732.57,
          6346.460000000001,
          5628.4400000000005,
          6453.75,
          6050.380000000001,
          2730.96,
          2729.3799999999997,
          6606.139999999999,
          6427.1,
          6094.57,
          6173.08,
          6421.839999999999,
          2832.4700000000003,
          2097.88,
          6201.91,
          6034.34,
          6131.0199999999995,
          6057.759999999999,
          6438.71,
          2661.81,
          2322.83,
          6677.72,
          6177.67,
          5219.37,
          2095.4900000000002,
          5307.18,
          2521.64,
          2323.7400000000002,
          4929.49,
          1725.3899999999999,
          5049.209999999999,
          5192.09,
          5174.28,
          2396.2000000000003,
          2496.59,
          6637.5599999999995,
          6905.759999999999,
          5984.52,
          6181.35,
          6608.050000000001,
          2139.35,
          2342.1800000000003,
          6808.969999999999,
          6111.030000000001,
          6275.1,
          6331.14,
          6358.84,
          3021.9700000000007,
          2660.1,
          2241.3,
          2228.02
         ]
        },
        {
         "line": {
          "color": "rgba(55, 128, 191, 1.0)",
          "dash": "solid",
          "shape": "linear",
          "width": 1.3
         },
         "mode": "lines",
         "name": "kW_Predicted",
         "text": "",
         "type": "scatter",
         "x": [
          "2019-07-21",
          "2019-07-22",
          "2019-07-23",
          "2019-07-24",
          "2019-07-25",
          "2019-07-26",
          "2019-07-27",
          "2019-07-28",
          "2019-07-29",
          "2019-07-30",
          "2019-07-31",
          "2019-08-01",
          "2019-08-02",
          "2019-08-03",
          "2019-08-04",
          "2019-08-05",
          "2019-08-06",
          "2019-08-07",
          "2019-08-08",
          "2019-08-09",
          "2019-08-10",
          "2019-08-11",
          "2019-08-12",
          "2019-08-13",
          "2019-08-14",
          "2019-08-15",
          "2019-08-16",
          "2019-08-17",
          "2019-08-18",
          "2019-08-19",
          "2019-08-20",
          "2019-08-21",
          "2019-08-22",
          "2019-08-23",
          "2019-08-24",
          "2019-08-25",
          "2019-08-26",
          "2019-08-27",
          "2019-08-28",
          "2019-08-29",
          "2019-08-30",
          "2019-08-31",
          "2019-09-01",
          "2019-09-02",
          "2019-09-03",
          "2019-09-04",
          "2019-09-05",
          "2019-09-06",
          "2019-09-07",
          "2019-09-08",
          "2019-09-09",
          "2019-09-10",
          "2019-09-11",
          "2019-09-12",
          "2019-09-13",
          "2019-09-14",
          "2019-09-15",
          "2019-09-16",
          "2019-09-17",
          "2019-09-18",
          "2019-09-19",
          "2019-09-20",
          "2019-09-21",
          "2019-09-22",
          "2019-09-23",
          "2019-09-24",
          "2019-09-25",
          "2019-09-26",
          "2019-09-27",
          "2019-09-28",
          "2019-09-29",
          "2019-09-30",
          "2019-10-01",
          "2019-10-02",
          "2019-10-03",
          "2019-10-04",
          "2019-10-05",
          "2019-10-06",
          "2019-10-07",
          "2019-10-08",
          "2019-10-09",
          "2019-10-10",
          "2019-10-11",
          "2019-10-12",
          "2019-10-13",
          "2019-10-14",
          "2019-10-15",
          "2019-10-16",
          "2019-10-17",
          "2019-10-18",
          "2019-10-19",
          "2019-10-20",
          "2019-10-21",
          "2019-10-22",
          "2019-10-23",
          "2019-10-24",
          "2019-10-25",
          "2019-10-26",
          "2019-10-27",
          "2019-10-28",
          "2019-10-29",
          "2019-10-30",
          "2019-10-31",
          "2019-11-01",
          "2019-11-02",
          "2019-11-03",
          "2019-11-04",
          "2019-11-05",
          "2019-11-06",
          "2019-11-07",
          "2019-11-08",
          "2019-11-09",
          "2019-11-10",
          "2019-11-11",
          "2019-11-12",
          "2019-11-13",
          "2019-11-14",
          "2019-11-15",
          "2019-11-16",
          "2019-11-17",
          "2019-11-18",
          "2019-11-19",
          "2019-11-20",
          "2019-11-21",
          "2019-11-22",
          "2019-11-23",
          "2019-11-24",
          "2019-11-25",
          "2019-11-26",
          "2019-11-27",
          "2019-11-28",
          "2019-11-29",
          "2019-11-30",
          "2019-12-01",
          "2019-12-02",
          "2019-12-03",
          "2019-12-04",
          "2019-12-05",
          "2019-12-06",
          "2019-12-07",
          "2019-12-08",
          "2019-12-09",
          "2019-12-10",
          "2019-12-11",
          "2019-12-12",
          "2019-12-13",
          "2019-12-14",
          "2019-12-15",
          "2019-12-16",
          "2019-12-17",
          "2019-12-18",
          "2019-12-19",
          "2019-12-20",
          "2019-12-21",
          "2019-12-22",
          "2019-12-23",
          "2019-12-24",
          "2019-12-25",
          "2019-12-26",
          "2019-12-27",
          "2019-12-28",
          "2019-12-29",
          "2019-12-30",
          "2019-12-31"
         ],
         "y": [
          0,
          3034.778298950214,
          6602.059097221096,
          6026.802087788538,
          6281.565578702349,
          5945.18307254837,
          4989.710514545735,
          5366.150138152273,
          6856.207810128961,
          7744.646380943207,
          7440.638956504686,
          7317.151310617723,
          7354.784368421355,
          4644.531499145112,
          4226.976873529531,
          7325.295267786631,
          7816.330339552802,
          7244.9274213706285,
          7422.919556375758,
          7267.454389085251,
          4496.589493404229,
          4241.899863893178,
          7876.174468672489,
          7712.306788445505,
          7619.039477285097,
          7552.263182093465,
          7677.032417202276,
          2721.9688730251537,
          4227.688403404587,
          7983.297298680987,
          5702.310362422779,
          8180.0924441912,
          7807.455012774298,
          6752.93979606449,
          4570.472802798158,
          4551.614190997789,
          7253.494770540242,
          7996.521519082741,
          7639.3462994871525,
          7560.222655448831,
          7369.700817350429,
          4810.489828039719,
          4178.53375366228,
          7206.472129162451,
          6307.714398064975,
          8190.326742186131,
          7872.010369028011,
          7393.652684691036,
          3747.8527579578035,
          4105.8440219147,
          6820.598643725296,
          8404.781207758593,
          7812.771270100187,
          7669.347078774348,
          6881.207735024496,
          4268.592335085115,
          3632.668661719423,
          6666.766931879992,
          7880.918421941179,
          7197.815254003798,
          7499.402545414815,
          6808.2897252098555,
          4130.096442656943,
          3809.2236679715747,
          6649.863206171559,
          8232.504634638854,
          6909.2238609724245,
          7341.205230770932,
          6756.059894457699,
          4119.59780972908,
          3732.5705448259178,
          6769.294408852584,
          7219.031515915207,
          7344.110428581723,
          7735.173526793196,
          7140.522250016127,
          4100.432389334235,
          3473.6130796686116,
          6828.341300897573,
          7736.757592310628,
          7539.9045166616515,
          7306.360447748434,
          6868.507030843828,
          4220.123358306919,
          3677.787662530335,
          7224.3634667876695,
          7746.844115554913,
          7457.210225503548,
          7901.2510987951255,
          6782.085421577737,
          4284.3682825056985,
          3369.114232747036,
          6734.042551530227,
          7913.955563353849,
          7258.7062360203745,
          7431.92494551847,
          7090.751313739582,
          4285.377816967301,
          3494.220975753286,
          7298.0349296338045,
          7724.3395381873925,
          7182.122524025968,
          7533.013200394629,
          6923.035614930761,
          3824.2697506825525,
          3155.081402627662,
          6965.66464605154,
          6287.360207635741,
          7744.285209510389,
          7161.268533540606,
          6755.94358621571,
          3795.453955497504,
          3169.360102675547,
          6671.465580293485,
          7307.718054620798,
          5509.947062594278,
          7638.006846933281,
          6814.432624945727,
          3856.0645727900046,
          3531.081429368316,
          6933.872634785401,
          6999.539896293636,
          6992.087387842727,
          6767.440992475846,
          6497.297787491905,
          3607.507038148327,
          3462.1906106591027,
          6652.055745631302,
          6921.595667465265,
          6773.936241360608,
          6941.479872651266,
          6582.071049053318,
          3211.8223211990485,
          3064.6951113329396,
          6464.021282268644,
          6875.138024922295,
          6709.768657965707,
          6801.5124930529055,
          6353.020344106754,
          3406.0482986869547,
          3508.3276507537275,
          6549.023248364726,
          6614.4297848362185,
          6547.861449263086,
          6754.216228234855,
          6568.524493946421,
          3546.4734386500704,
          2949.714563335342,
          6352.84896055374,
          6902.4780007901045,
          6644.966779746838,
          6692.178837553107,
          6714.647173645303,
          3522.4987068461824,
          3178.7357081152404,
          6634.275112778665,
          7219.899962921279,
          6977.512080571654,
          5203.058217342352,
          7551.040342127335,
          3560.456352582316,
          3101.5911462547847,
          6418.046336265565,
          5522.108013480753
         ]
        }
       ],
       "layout": {
        "legend": {
         "bgcolor": "#F5F6F9",
         "font": {
          "color": "#4D5663"
         }
        },
        "paper_bgcolor": "#F5F6F9",
        "plot_bgcolor": "#F5F6F9",
        "template": {
         "data": {
          "bar": [
           {
            "error_x": {
             "color": "#2a3f5f"
            },
            "error_y": {
             "color": "#2a3f5f"
            },
            "marker": {
             "line": {
              "color": "#E5ECF6",
              "width": 0.5
             }
            },
            "type": "bar"
           }
          ],
          "barpolar": [
           {
            "marker": {
             "line": {
              "color": "#E5ECF6",
              "width": 0.5
             }
            },
            "type": "barpolar"
           }
          ],
          "carpet": [
           {
            "aaxis": {
             "endlinecolor": "#2a3f5f",
             "gridcolor": "white",
             "linecolor": "white",
             "minorgridcolor": "white",
             "startlinecolor": "#2a3f5f"
            },
            "baxis": {
             "endlinecolor": "#2a3f5f",
             "gridcolor": "white",
             "linecolor": "white",
             "minorgridcolor": "white",
             "startlinecolor": "#2a3f5f"
            },
            "type": "carpet"
           }
          ],
          "choropleth": [
           {
            "colorbar": {
             "outlinewidth": 0,
             "ticks": ""
            },
            "type": "choropleth"
           }
          ],
          "contour": [
           {
            "colorbar": {
             "outlinewidth": 0,
             "ticks": ""
            },
            "colorscale": [
             [
              0,
              "#0d0887"
             ],
             [
              0.1111111111111111,
              "#46039f"
             ],
             [
              0.2222222222222222,
              "#7201a8"
             ],
             [
              0.3333333333333333,
              "#9c179e"
             ],
             [
              0.4444444444444444,
              "#bd3786"
             ],
             [
              0.5555555555555556,
              "#d8576b"
             ],
             [
              0.6666666666666666,
              "#ed7953"
             ],
             [
              0.7777777777777778,
              "#fb9f3a"
             ],
             [
              0.8888888888888888,
              "#fdca26"
             ],
             [
              1,
              "#f0f921"
             ]
            ],
            "type": "contour"
           }
          ],
          "contourcarpet": [
           {
            "colorbar": {
             "outlinewidth": 0,
             "ticks": ""
            },
            "type": "contourcarpet"
           }
          ],
          "heatmap": [
           {
            "colorbar": {
             "outlinewidth": 0,
             "ticks": ""
            },
            "colorscale": [
             [
              0,
              "#0d0887"
             ],
             [
              0.1111111111111111,
              "#46039f"
             ],
             [
              0.2222222222222222,
              "#7201a8"
             ],
             [
              0.3333333333333333,
              "#9c179e"
             ],
             [
              0.4444444444444444,
              "#bd3786"
             ],
             [
              0.5555555555555556,
              "#d8576b"
             ],
             [
              0.6666666666666666,
              "#ed7953"
             ],
             [
              0.7777777777777778,
              "#fb9f3a"
             ],
             [
              0.8888888888888888,
              "#fdca26"
             ],
             [
              1,
              "#f0f921"
             ]
            ],
            "type": "heatmap"
           }
          ],
          "heatmapgl": [
           {
            "colorbar": {
             "outlinewidth": 0,
             "ticks": ""
            },
            "colorscale": [
             [
              0,
              "#0d0887"
             ],
             [
              0.1111111111111111,
              "#46039f"
             ],
             [
              0.2222222222222222,
              "#7201a8"
             ],
             [
              0.3333333333333333,
              "#9c179e"
             ],
             [
              0.4444444444444444,
              "#bd3786"
             ],
             [
              0.5555555555555556,
              "#d8576b"
             ],
             [
              0.6666666666666666,
              "#ed7953"
             ],
             [
              0.7777777777777778,
              "#fb9f3a"
             ],
             [
              0.8888888888888888,
              "#fdca26"
             ],
             [
              1,
              "#f0f921"
             ]
            ],
            "type": "heatmapgl"
           }
          ],
          "histogram": [
           {
            "marker": {
             "colorbar": {
              "outlinewidth": 0,
              "ticks": ""
             }
            },
            "type": "histogram"
           }
          ],
          "histogram2d": [
           {
            "colorbar": {
             "outlinewidth": 0,
             "ticks": ""
            },
            "colorscale": [
             [
              0,
              "#0d0887"
             ],
             [
              0.1111111111111111,
              "#46039f"
             ],
             [
              0.2222222222222222,
              "#7201a8"
             ],
             [
              0.3333333333333333,
              "#9c179e"
             ],
             [
              0.4444444444444444,
              "#bd3786"
             ],
             [
              0.5555555555555556,
              "#d8576b"
             ],
             [
              0.6666666666666666,
              "#ed7953"
             ],
             [
              0.7777777777777778,
              "#fb9f3a"
             ],
             [
              0.8888888888888888,
              "#fdca26"
             ],
             [
              1,
              "#f0f921"
             ]
            ],
            "type": "histogram2d"
           }
          ],
          "histogram2dcontour": [
           {
            "colorbar": {
             "outlinewidth": 0,
             "ticks": ""
            },
            "colorscale": [
             [
              0,
              "#0d0887"
             ],
             [
              0.1111111111111111,
              "#46039f"
             ],
             [
              0.2222222222222222,
              "#7201a8"
             ],
             [
              0.3333333333333333,
              "#9c179e"
             ],
             [
              0.4444444444444444,
              "#bd3786"
             ],
             [
              0.5555555555555556,
              "#d8576b"
             ],
             [
              0.6666666666666666,
              "#ed7953"
             ],
             [
              0.7777777777777778,
              "#fb9f3a"
             ],
             [
              0.8888888888888888,
              "#fdca26"
             ],
             [
              1,
              "#f0f921"
             ]
            ],
            "type": "histogram2dcontour"
           }
          ],
          "mesh3d": [
           {
            "colorbar": {
             "outlinewidth": 0,
             "ticks": ""
            },
            "type": "mesh3d"
           }
          ],
          "parcoords": [
           {
            "line": {
             "colorbar": {
              "outlinewidth": 0,
              "ticks": ""
             }
            },
            "type": "parcoords"
           }
          ],
          "pie": [
           {
            "automargin": true,
            "type": "pie"
           }
          ],
          "scatter": [
           {
            "marker": {
             "colorbar": {
              "outlinewidth": 0,
              "ticks": ""
             }
            },
            "type": "scatter"
           }
          ],
          "scatter3d": [
           {
            "line": {
             "colorbar": {
              "outlinewidth": 0,
              "ticks": ""
             }
            },
            "marker": {
             "colorbar": {
              "outlinewidth": 0,
              "ticks": ""
             }
            },
            "type": "scatter3d"
           }
          ],
          "scattercarpet": [
           {
            "marker": {
             "colorbar": {
              "outlinewidth": 0,
              "ticks": ""
             }
            },
            "type": "scattercarpet"
           }
          ],
          "scattergeo": [
           {
            "marker": {
             "colorbar": {
              "outlinewidth": 0,
              "ticks": ""
             }
            },
            "type": "scattergeo"
           }
          ],
          "scattergl": [
           {
            "marker": {
             "colorbar": {
              "outlinewidth": 0,
              "ticks": ""
             }
            },
            "type": "scattergl"
           }
          ],
          "scattermapbox": [
           {
            "marker": {
             "colorbar": {
              "outlinewidth": 0,
              "ticks": ""
             }
            },
            "type": "scattermapbox"
           }
          ],
          "scatterpolar": [
           {
            "marker": {
             "colorbar": {
              "outlinewidth": 0,
              "ticks": ""
             }
            },
            "type": "scatterpolar"
           }
          ],
          "scatterpolargl": [
           {
            "marker": {
             "colorbar": {
              "outlinewidth": 0,
              "ticks": ""
             }
            },
            "type": "scatterpolargl"
           }
          ],
          "scatterternary": [
           {
            "marker": {
             "colorbar": {
              "outlinewidth": 0,
              "ticks": ""
             }
            },
            "type": "scatterternary"
           }
          ],
          "surface": [
           {
            "colorbar": {
             "outlinewidth": 0,
             "ticks": ""
            },
            "colorscale": [
             [
              0,
              "#0d0887"
             ],
             [
              0.1111111111111111,
              "#46039f"
             ],
             [
              0.2222222222222222,
              "#7201a8"
             ],
             [
              0.3333333333333333,
              "#9c179e"
             ],
             [
              0.4444444444444444,
              "#bd3786"
             ],
             [
              0.5555555555555556,
              "#d8576b"
             ],
             [
              0.6666666666666666,
              "#ed7953"
             ],
             [
              0.7777777777777778,
              "#fb9f3a"
             ],
             [
              0.8888888888888888,
              "#fdca26"
             ],
             [
              1,
              "#f0f921"
             ]
            ],
            "type": "surface"
           }
          ],
          "table": [
           {
            "cells": {
             "fill": {
              "color": "#EBF0F8"
             },
             "line": {
              "color": "white"
             }
            },
            "header": {
             "fill": {
              "color": "#C8D4E3"
             },
             "line": {
              "color": "white"
             }
            },
            "type": "table"
           }
          ]
         },
         "layout": {
          "annotationdefaults": {
           "arrowcolor": "#2a3f5f",
           "arrowhead": 0,
           "arrowwidth": 1
          },
          "coloraxis": {
           "colorbar": {
            "outlinewidth": 0,
            "ticks": ""
           }
          },
          "colorscale": {
           "diverging": [
            [
             0,
             "#8e0152"
            ],
            [
             0.1,
             "#c51b7d"
            ],
            [
             0.2,
             "#de77ae"
            ],
            [
             0.3,
             "#f1b6da"
            ],
            [
             0.4,
             "#fde0ef"
            ],
            [
             0.5,
             "#f7f7f7"
            ],
            [
             0.6,
             "#e6f5d0"
            ],
            [
             0.7,
             "#b8e186"
            ],
            [
             0.8,
             "#7fbc41"
            ],
            [
             0.9,
             "#4d9221"
            ],
            [
             1,
             "#276419"
            ]
           ],
           "sequential": [
            [
             0,
             "#0d0887"
            ],
            [
             0.1111111111111111,
             "#46039f"
            ],
            [
             0.2222222222222222,
             "#7201a8"
            ],
            [
             0.3333333333333333,
             "#9c179e"
            ],
            [
             0.4444444444444444,
             "#bd3786"
            ],
            [
             0.5555555555555556,
             "#d8576b"
            ],
            [
             0.6666666666666666,
             "#ed7953"
            ],
            [
             0.7777777777777778,
             "#fb9f3a"
            ],
            [
             0.8888888888888888,
             "#fdca26"
            ],
            [
             1,
             "#f0f921"
            ]
           ],
           "sequentialminus": [
            [
             0,
             "#0d0887"
            ],
            [
             0.1111111111111111,
             "#46039f"
            ],
            [
             0.2222222222222222,
             "#7201a8"
            ],
            [
             0.3333333333333333,
             "#9c179e"
            ],
            [
             0.4444444444444444,
             "#bd3786"
            ],
            [
             0.5555555555555556,
             "#d8576b"
            ],
            [
             0.6666666666666666,
             "#ed7953"
            ],
            [
             0.7777777777777778,
             "#fb9f3a"
            ],
            [
             0.8888888888888888,
             "#fdca26"
            ],
            [
             1,
             "#f0f921"
            ]
           ]
          },
          "colorway": [
           "#636efa",
           "#EF553B",
           "#00cc96",
           "#ab63fa",
           "#FFA15A",
           "#19d3f3",
           "#FF6692",
           "#B6E880",
           "#FF97FF",
           "#FECB52"
          ],
          "font": {
           "color": "#2a3f5f"
          },
          "geo": {
           "bgcolor": "white",
           "lakecolor": "white",
           "landcolor": "#E5ECF6",
           "showlakes": true,
           "showland": true,
           "subunitcolor": "white"
          },
          "hoverlabel": {
           "align": "left"
          },
          "hovermode": "closest",
          "mapbox": {
           "style": "light"
          },
          "paper_bgcolor": "white",
          "plot_bgcolor": "#E5ECF6",
          "polar": {
           "angularaxis": {
            "gridcolor": "white",
            "linecolor": "white",
            "ticks": ""
           },
           "bgcolor": "#E5ECF6",
           "radialaxis": {
            "gridcolor": "white",
            "linecolor": "white",
            "ticks": ""
           }
          },
          "scene": {
           "xaxis": {
            "backgroundcolor": "#E5ECF6",
            "gridcolor": "white",
            "gridwidth": 2,
            "linecolor": "white",
            "showbackground": true,
            "ticks": "",
            "zerolinecolor": "white"
           },
           "yaxis": {
            "backgroundcolor": "#E5ECF6",
            "gridcolor": "white",
            "gridwidth": 2,
            "linecolor": "white",
            "showbackground": true,
            "ticks": "",
            "zerolinecolor": "white"
           },
           "zaxis": {
            "backgroundcolor": "#E5ECF6",
            "gridcolor": "white",
            "gridwidth": 2,
            "linecolor": "white",
            "showbackground": true,
            "ticks": "",
            "zerolinecolor": "white"
           }
          },
          "shapedefaults": {
           "line": {
            "color": "#2a3f5f"
           }
          },
          "ternary": {
           "aaxis": {
            "gridcolor": "white",
            "linecolor": "white",
            "ticks": ""
           },
           "baxis": {
            "gridcolor": "white",
            "linecolor": "white",
            "ticks": ""
           },
           "bgcolor": "#E5ECF6",
           "caxis": {
            "gridcolor": "white",
            "linecolor": "white",
            "ticks": ""
           }
          },
          "title": {
           "x": 0.05
          },
          "xaxis": {
           "automargin": true,
           "gridcolor": "white",
           "linecolor": "white",
           "ticks": "",
           "title": {
            "standoff": 15
           },
           "zerolinecolor": "white",
           "zerolinewidth": 2
          },
          "yaxis": {
           "automargin": true,
           "gridcolor": "white",
           "linecolor": "white",
           "ticks": "",
           "title": {
            "standoff": 15
           },
           "zerolinecolor": "white",
           "zerolinewidth": 2
          }
         }
        },
        "title": {
         "font": {
          "color": "#4D5663"
         }
        },
        "xaxis": {
         "gridcolor": "#E1E5ED",
         "showgrid": true,
         "tickfont": {
          "color": "#4D5663"
         },
         "title": {
          "font": {
           "color": "#4D5663"
          },
          "text": ""
         },
         "zerolinecolor": "#E1E5ED"
        },
        "yaxis": {
         "gridcolor": "#E1E5ED",
         "showgrid": true,
         "tickfont": {
          "color": "#4D5663"
         },
         "title": {
          "font": {
           "color": "#4D5663"
          },
          "text": "kW"
         },
         "zerolinecolor": "#E1E5ED"
        }
       }
      },
      "text/html": [
       "<div>\n",
       "        \n",
       "        \n",
       "            <div id=\"d9bc3299-522e-4c44-82a4-efd2cff30f01\" class=\"plotly-graph-div\" style=\"height:525px; width:100%;\"></div>\n",
       "            <script type=\"text/javascript\">\n",
       "                require([\"plotly\"], function(Plotly) {\n",
       "                    window.PLOTLYENV=window.PLOTLYENV || {};\n",
       "                    window.PLOTLYENV.BASE_URL='https://plot.ly';\n",
       "                    \n",
       "                if (document.getElementById(\"d9bc3299-522e-4c44-82a4-efd2cff30f01\")) {\n",
       "                    Plotly.newPlot(\n",
       "                        'd9bc3299-522e-4c44-82a4-efd2cff30f01',\n",
       "                        [{\"line\": {\"color\": \"rgba(255, 153, 51, 1.0)\", \"dash\": \"solid\", \"shape\": \"linear\", \"width\": 1.3}, \"mode\": \"lines\", \"name\": \"kW_Actual\", \"text\": \"\", \"type\": \"scatter\", \"x\": [\"2019-07-21\", \"2019-07-22\", \"2019-07-23\", \"2019-07-24\", \"2019-07-25\", \"2019-07-26\", \"2019-07-27\", \"2019-07-28\", \"2019-07-29\", \"2019-07-30\", \"2019-07-31\", \"2019-08-01\", \"2019-08-02\", \"2019-08-03\", \"2019-08-04\", \"2019-08-05\", \"2019-08-06\", \"2019-08-07\", \"2019-08-08\", \"2019-08-09\", \"2019-08-10\", \"2019-08-11\", \"2019-08-12\", \"2019-08-13\", \"2019-08-14\", \"2019-08-15\", \"2019-08-16\", \"2019-08-17\", \"2019-08-18\", \"2019-08-19\", \"2019-08-20\", \"2019-08-21\", \"2019-08-22\", \"2019-08-23\", \"2019-08-24\", \"2019-08-25\", \"2019-08-26\", \"2019-08-27\", \"2019-08-28\", \"2019-08-29\", \"2019-08-30\", \"2019-08-31\", \"2019-09-01\", \"2019-09-02\", \"2019-09-03\", \"2019-09-04\", \"2019-09-05\", \"2019-09-06\", \"2019-09-07\", \"2019-09-08\", \"2019-09-09\", \"2019-09-10\", \"2019-09-11\", \"2019-09-12\", \"2019-09-13\", \"2019-09-14\", \"2019-09-15\", \"2019-09-16\", \"2019-09-17\", \"2019-09-18\", \"2019-09-19\", \"2019-09-20\", \"2019-09-21\", \"2019-09-22\", \"2019-09-23\", \"2019-09-24\", \"2019-09-25\", \"2019-09-26\", \"2019-09-27\", \"2019-09-28\", \"2019-09-29\", \"2019-09-30\", \"2019-10-01\", \"2019-10-02\", \"2019-10-03\", \"2019-10-04\", \"2019-10-05\", \"2019-10-06\", \"2019-10-07\", \"2019-10-08\", \"2019-10-09\", \"2019-10-10\", \"2019-10-11\", \"2019-10-12\", \"2019-10-13\", \"2019-10-14\", \"2019-10-15\", \"2019-10-16\", \"2019-10-17\", \"2019-10-18\", \"2019-10-19\", \"2019-10-20\", \"2019-10-21\", \"2019-10-22\", \"2019-10-23\", \"2019-10-24\", \"2019-10-25\", \"2019-10-26\", \"2019-10-27\", \"2019-10-28\", \"2019-10-29\", \"2019-10-30\", \"2019-10-31\", \"2019-11-01\", \"2019-11-02\", \"2019-11-03\", \"2019-11-04\", \"2019-11-05\", \"2019-11-06\", \"2019-11-07\", \"2019-11-08\", \"2019-11-09\", \"2019-11-10\", \"2019-11-11\", \"2019-11-12\", \"2019-11-13\", \"2019-11-14\", \"2019-11-15\", \"2019-11-16\", \"2019-11-17\", \"2019-11-18\", \"2019-11-19\", \"2019-11-20\", \"2019-11-21\", \"2019-11-22\", \"2019-11-23\", \"2019-11-24\", \"2019-11-25\", \"2019-11-26\", \"2019-11-27\", \"2019-11-28\", \"2019-11-29\", \"2019-11-30\", \"2019-12-01\", \"2019-12-02\", \"2019-12-03\", \"2019-12-04\", \"2019-12-05\", \"2019-12-06\", \"2019-12-07\", \"2019-12-08\", \"2019-12-09\", \"2019-12-10\", \"2019-12-11\", \"2019-12-12\", \"2019-12-13\", \"2019-12-14\", \"2019-12-15\", \"2019-12-16\", \"2019-12-17\", \"2019-12-18\", \"2019-12-19\", \"2019-12-20\", \"2019-12-21\", \"2019-12-22\", \"2019-12-23\", \"2019-12-24\", \"2019-12-25\", \"2019-12-26\", \"2019-12-27\", \"2019-12-28\", \"2019-12-29\", \"2019-12-30\", \"2019-12-31\"], \"y\": [3209.2000000000003, 8463.83, 8706.77, 7381.35, 7517.539999999999, 7635.81, 4129.790000000001, 2488.04, 2971.53, 8435.76, 8010.359999999999, 6950.27, 7368.570000000001, 3887.6299999999997, 2419.8500000000004, 7060.84, 7400.18, 7049.160000000001, 6999.29, 7350.09, 3450.8900000000003, 2840.3199999999997, 3173.3, 8040.15, 7589.0, 6984.31, 6910.99, 2828.2000000000003, 3804.9, 8308.35, 7961.740000000001, 7706.48, 7623.43, 7585.470000000001, 3923.0600000000004, 2823.61, 7881.07, 8077.280000000001, 7253.370000000001, 7023.990000000001, 6732.29, 4737.95, 3429.56, 7326.79, 7162.66, 6474.58, 6495.78, 6971.379999999999, 4038.2, 3081.3800000000006, 7271.9, 7219.22, 7083.61, 6838.37, 7190.9800000000005, 3731.61, 2402.47, 5983.3099999999995, 6934.420000000001, 7326.549999999999, 6949.5599999999995, 6313.470000000001, 3428.9399999999996, 3009.83, 6315.14, 6738.329999999999, 7101.35, 7437.33, 6877.360000000001, 2762.03, 2505.8499999999995, 7709.12, 7518.23, 7469.57, 7625.619999999999, 6557.31, 2843.19, 1969.7700000000002, 6949.450000000001, 7128.4, 6722.900000000001, 6705.339999999999, 6841.91, 3275.07, 2900.76, 3018.98, 8282.33, 7456.110000000001, 7382.9800000000005, 7454.669999999999, 3078.32, 2827.73, 7643.709999999999, 7380.740000000001, 2568.23, 7071.56, 7454.63, 2990.46, 3272.02, 7407.84, 6893.459999999999, 6067.3099999999995, 6140.37, 6434.469999999999, 3166.3100000000004, 2994.559999999999, 6350.4, 6505.3099999999995, 6744.18, 6068.24, 5856.209999999999, 2337.5999999999995, 2064.46, 5732.57, 6346.460000000001, 5628.4400000000005, 6453.75, 6050.380000000001, 2730.96, 2729.3799999999997, 6606.139999999999, 6427.1, 6094.57, 6173.08, 6421.839999999999, 2832.4700000000003, 2097.88, 6201.91, 6034.34, 6131.0199999999995, 6057.759999999999, 6438.71, 2661.81, 2322.83, 6677.72, 6177.67, 5219.37, 2095.4900000000002, 5307.18, 2521.64, 2323.7400000000002, 4929.49, 1725.3899999999999, 5049.209999999999, 5192.09, 5174.28, 2396.2000000000003, 2496.59, 6637.5599999999995, 6905.759999999999, 5984.52, 6181.35, 6608.050000000001, 2139.35, 2342.1800000000003, 6808.969999999999, 6111.030000000001, 6275.1, 6331.14, 6358.84, 3021.9700000000007, 2660.1, 2241.3, 2228.02]}, {\"line\": {\"color\": \"rgba(55, 128, 191, 1.0)\", \"dash\": \"solid\", \"shape\": \"linear\", \"width\": 1.3}, \"mode\": \"lines\", \"name\": \"kW_Predicted\", \"text\": \"\", \"type\": \"scatter\", \"x\": [\"2019-07-21\", \"2019-07-22\", \"2019-07-23\", \"2019-07-24\", \"2019-07-25\", \"2019-07-26\", \"2019-07-27\", \"2019-07-28\", \"2019-07-29\", \"2019-07-30\", \"2019-07-31\", \"2019-08-01\", \"2019-08-02\", \"2019-08-03\", \"2019-08-04\", \"2019-08-05\", \"2019-08-06\", \"2019-08-07\", \"2019-08-08\", \"2019-08-09\", \"2019-08-10\", \"2019-08-11\", \"2019-08-12\", \"2019-08-13\", \"2019-08-14\", \"2019-08-15\", \"2019-08-16\", \"2019-08-17\", \"2019-08-18\", \"2019-08-19\", \"2019-08-20\", \"2019-08-21\", \"2019-08-22\", \"2019-08-23\", \"2019-08-24\", \"2019-08-25\", \"2019-08-26\", \"2019-08-27\", \"2019-08-28\", \"2019-08-29\", \"2019-08-30\", \"2019-08-31\", \"2019-09-01\", \"2019-09-02\", \"2019-09-03\", \"2019-09-04\", \"2019-09-05\", \"2019-09-06\", \"2019-09-07\", \"2019-09-08\", \"2019-09-09\", \"2019-09-10\", \"2019-09-11\", \"2019-09-12\", \"2019-09-13\", \"2019-09-14\", \"2019-09-15\", \"2019-09-16\", \"2019-09-17\", \"2019-09-18\", \"2019-09-19\", \"2019-09-20\", \"2019-09-21\", \"2019-09-22\", \"2019-09-23\", \"2019-09-24\", \"2019-09-25\", \"2019-09-26\", \"2019-09-27\", \"2019-09-28\", \"2019-09-29\", \"2019-09-30\", \"2019-10-01\", \"2019-10-02\", \"2019-10-03\", \"2019-10-04\", \"2019-10-05\", \"2019-10-06\", \"2019-10-07\", \"2019-10-08\", \"2019-10-09\", \"2019-10-10\", \"2019-10-11\", \"2019-10-12\", \"2019-10-13\", \"2019-10-14\", \"2019-10-15\", \"2019-10-16\", \"2019-10-17\", \"2019-10-18\", \"2019-10-19\", \"2019-10-20\", \"2019-10-21\", \"2019-10-22\", \"2019-10-23\", \"2019-10-24\", \"2019-10-25\", \"2019-10-26\", \"2019-10-27\", \"2019-10-28\", \"2019-10-29\", \"2019-10-30\", \"2019-10-31\", \"2019-11-01\", \"2019-11-02\", \"2019-11-03\", \"2019-11-04\", \"2019-11-05\", \"2019-11-06\", \"2019-11-07\", \"2019-11-08\", \"2019-11-09\", \"2019-11-10\", \"2019-11-11\", \"2019-11-12\", \"2019-11-13\", \"2019-11-14\", \"2019-11-15\", \"2019-11-16\", \"2019-11-17\", \"2019-11-18\", \"2019-11-19\", \"2019-11-20\", \"2019-11-21\", \"2019-11-22\", \"2019-11-23\", \"2019-11-24\", \"2019-11-25\", \"2019-11-26\", \"2019-11-27\", \"2019-11-28\", \"2019-11-29\", \"2019-11-30\", \"2019-12-01\", \"2019-12-02\", \"2019-12-03\", \"2019-12-04\", \"2019-12-05\", \"2019-12-06\", \"2019-12-07\", \"2019-12-08\", \"2019-12-09\", \"2019-12-10\", \"2019-12-11\", \"2019-12-12\", \"2019-12-13\", \"2019-12-14\", \"2019-12-15\", \"2019-12-16\", \"2019-12-17\", \"2019-12-18\", \"2019-12-19\", \"2019-12-20\", \"2019-12-21\", \"2019-12-22\", \"2019-12-23\", \"2019-12-24\", \"2019-12-25\", \"2019-12-26\", \"2019-12-27\", \"2019-12-28\", \"2019-12-29\", \"2019-12-30\", \"2019-12-31\"], \"y\": [0.0, 3034.778298950214, 6602.059097221096, 6026.802087788538, 6281.565578702349, 5945.18307254837, 4989.710514545735, 5366.150138152273, 6856.207810128961, 7744.646380943207, 7440.638956504686, 7317.151310617723, 7354.784368421355, 4644.531499145112, 4226.976873529531, 7325.295267786631, 7816.330339552802, 7244.9274213706285, 7422.919556375758, 7267.454389085251, 4496.589493404229, 4241.899863893178, 7876.174468672489, 7712.306788445505, 7619.039477285097, 7552.263182093465, 7677.032417202276, 2721.9688730251537, 4227.688403404587, 7983.297298680987, 5702.310362422779, 8180.0924441912, 7807.455012774298, 6752.93979606449, 4570.472802798158, 4551.614190997789, 7253.494770540242, 7996.521519082741, 7639.3462994871525, 7560.222655448831, 7369.700817350429, 4810.489828039719, 4178.53375366228, 7206.472129162451, 6307.714398064975, 8190.326742186131, 7872.010369028011, 7393.652684691036, 3747.8527579578035, 4105.8440219147, 6820.598643725296, 8404.781207758593, 7812.771270100187, 7669.347078774348, 6881.207735024496, 4268.592335085115, 3632.668661719423, 6666.766931879992, 7880.918421941179, 7197.815254003798, 7499.402545414815, 6808.2897252098555, 4130.096442656943, 3809.2236679715747, 6649.863206171559, 8232.504634638854, 6909.2238609724245, 7341.205230770932, 6756.059894457699, 4119.59780972908, 3732.5705448259178, 6769.294408852584, 7219.031515915207, 7344.110428581723, 7735.173526793196, 7140.522250016127, 4100.432389334235, 3473.6130796686116, 6828.341300897573, 7736.757592310628, 7539.9045166616515, 7306.360447748434, 6868.507030843828, 4220.123358306919, 3677.787662530335, 7224.3634667876695, 7746.844115554913, 7457.210225503548, 7901.2510987951255, 6782.085421577737, 4284.3682825056985, 3369.114232747036, 6734.042551530227, 7913.955563353849, 7258.7062360203745, 7431.92494551847, 7090.751313739582, 4285.377816967301, 3494.220975753286, 7298.0349296338045, 7724.3395381873925, 7182.122524025968, 7533.013200394629, 6923.035614930761, 3824.2697506825525, 3155.081402627662, 6965.66464605154, 6287.360207635741, 7744.285209510389, 7161.268533540606, 6755.94358621571, 3795.453955497504, 3169.360102675547, 6671.465580293485, 7307.718054620798, 5509.947062594278, 7638.006846933281, 6814.432624945727, 3856.0645727900046, 3531.081429368316, 6933.872634785401, 6999.539896293636, 6992.087387842727, 6767.440992475846, 6497.297787491905, 3607.507038148327, 3462.1906106591027, 6652.055745631302, 6921.595667465265, 6773.936241360608, 6941.479872651266, 6582.071049053318, 3211.8223211990485, 3064.6951113329396, 6464.021282268644, 6875.138024922295, 6709.768657965707, 6801.5124930529055, 6353.020344106754, 3406.0482986869547, 3508.3276507537275, 6549.023248364726, 6614.4297848362185, 6547.861449263086, 6754.216228234855, 6568.524493946421, 3546.4734386500704, 2949.714563335342, 6352.84896055374, 6902.4780007901045, 6644.966779746838, 6692.178837553107, 6714.647173645303, 3522.4987068461824, 3178.7357081152404, 6634.275112778665, 7219.899962921279, 6977.512080571654, 5203.058217342352, 7551.040342127335, 3560.456352582316, 3101.5911462547847, 6418.046336265565, 5522.108013480753]}],\n",
       "                        {\"legend\": {\"bgcolor\": \"#F5F6F9\", \"font\": {\"color\": \"#4D5663\"}}, \"paper_bgcolor\": \"#F5F6F9\", \"plot_bgcolor\": \"#F5F6F9\", \"template\": {\"data\": {\"bar\": [{\"error_x\": {\"color\": \"#2a3f5f\"}, \"error_y\": {\"color\": \"#2a3f5f\"}, \"marker\": {\"line\": {\"color\": \"#E5ECF6\", \"width\": 0.5}}, \"type\": \"bar\"}], \"barpolar\": [{\"marker\": {\"line\": {\"color\": \"#E5ECF6\", \"width\": 0.5}}, \"type\": \"barpolar\"}], \"carpet\": [{\"aaxis\": {\"endlinecolor\": \"#2a3f5f\", \"gridcolor\": \"white\", \"linecolor\": \"white\", \"minorgridcolor\": \"white\", \"startlinecolor\": \"#2a3f5f\"}, \"baxis\": {\"endlinecolor\": \"#2a3f5f\", \"gridcolor\": \"white\", \"linecolor\": \"white\", \"minorgridcolor\": \"white\", \"startlinecolor\": \"#2a3f5f\"}, \"type\": \"carpet\"}], \"choropleth\": [{\"colorbar\": {\"outlinewidth\": 0, \"ticks\": \"\"}, \"type\": \"choropleth\"}], \"contour\": [{\"colorbar\": {\"outlinewidth\": 0, \"ticks\": \"\"}, \"colorscale\": [[0.0, \"#0d0887\"], [0.1111111111111111, \"#46039f\"], [0.2222222222222222, \"#7201a8\"], [0.3333333333333333, \"#9c179e\"], [0.4444444444444444, \"#bd3786\"], [0.5555555555555556, \"#d8576b\"], [0.6666666666666666, \"#ed7953\"], [0.7777777777777778, \"#fb9f3a\"], [0.8888888888888888, \"#fdca26\"], [1.0, \"#f0f921\"]], \"type\": \"contour\"}], \"contourcarpet\": [{\"colorbar\": {\"outlinewidth\": 0, \"ticks\": \"\"}, \"type\": \"contourcarpet\"}], \"heatmap\": [{\"colorbar\": {\"outlinewidth\": 0, \"ticks\": \"\"}, \"colorscale\": [[0.0, \"#0d0887\"], [0.1111111111111111, \"#46039f\"], [0.2222222222222222, \"#7201a8\"], [0.3333333333333333, \"#9c179e\"], [0.4444444444444444, \"#bd3786\"], [0.5555555555555556, \"#d8576b\"], [0.6666666666666666, \"#ed7953\"], [0.7777777777777778, \"#fb9f3a\"], [0.8888888888888888, \"#fdca26\"], [1.0, \"#f0f921\"]], \"type\": \"heatmap\"}], \"heatmapgl\": [{\"colorbar\": {\"outlinewidth\": 0, \"ticks\": \"\"}, \"colorscale\": [[0.0, \"#0d0887\"], [0.1111111111111111, \"#46039f\"], [0.2222222222222222, \"#7201a8\"], [0.3333333333333333, \"#9c179e\"], [0.4444444444444444, \"#bd3786\"], [0.5555555555555556, \"#d8576b\"], [0.6666666666666666, \"#ed7953\"], [0.7777777777777778, \"#fb9f3a\"], [0.8888888888888888, \"#fdca26\"], [1.0, \"#f0f921\"]], \"type\": \"heatmapgl\"}], \"histogram\": [{\"marker\": {\"colorbar\": {\"outlinewidth\": 0, \"ticks\": \"\"}}, \"type\": \"histogram\"}], \"histogram2d\": [{\"colorbar\": {\"outlinewidth\": 0, \"ticks\": \"\"}, \"colorscale\": [[0.0, \"#0d0887\"], [0.1111111111111111, \"#46039f\"], [0.2222222222222222, \"#7201a8\"], [0.3333333333333333, \"#9c179e\"], [0.4444444444444444, \"#bd3786\"], [0.5555555555555556, \"#d8576b\"], [0.6666666666666666, \"#ed7953\"], [0.7777777777777778, \"#fb9f3a\"], [0.8888888888888888, \"#fdca26\"], [1.0, \"#f0f921\"]], \"type\": \"histogram2d\"}], \"histogram2dcontour\": [{\"colorbar\": {\"outlinewidth\": 0, \"ticks\": \"\"}, \"colorscale\": [[0.0, \"#0d0887\"], [0.1111111111111111, \"#46039f\"], [0.2222222222222222, \"#7201a8\"], [0.3333333333333333, \"#9c179e\"], [0.4444444444444444, \"#bd3786\"], [0.5555555555555556, \"#d8576b\"], [0.6666666666666666, \"#ed7953\"], [0.7777777777777778, \"#fb9f3a\"], [0.8888888888888888, \"#fdca26\"], [1.0, \"#f0f921\"]], \"type\": \"histogram2dcontour\"}], \"mesh3d\": [{\"colorbar\": {\"outlinewidth\": 0, \"ticks\": \"\"}, \"type\": \"mesh3d\"}], \"parcoords\": [{\"line\": {\"colorbar\": {\"outlinewidth\": 0, \"ticks\": \"\"}}, \"type\": \"parcoords\"}], \"pie\": [{\"automargin\": true, \"type\": \"pie\"}], \"scatter\": [{\"marker\": {\"colorbar\": {\"outlinewidth\": 0, \"ticks\": \"\"}}, \"type\": \"scatter\"}], \"scatter3d\": [{\"line\": {\"colorbar\": {\"outlinewidth\": 0, \"ticks\": \"\"}}, \"marker\": {\"colorbar\": {\"outlinewidth\": 0, \"ticks\": \"\"}}, \"type\": \"scatter3d\"}], \"scattercarpet\": [{\"marker\": {\"colorbar\": {\"outlinewidth\": 0, \"ticks\": \"\"}}, \"type\": \"scattercarpet\"}], \"scattergeo\": [{\"marker\": {\"colorbar\": {\"outlinewidth\": 0, \"ticks\": \"\"}}, \"type\": \"scattergeo\"}], \"scattergl\": [{\"marker\": {\"colorbar\": {\"outlinewidth\": 0, \"ticks\": \"\"}}, \"type\": \"scattergl\"}], \"scattermapbox\": [{\"marker\": {\"colorbar\": {\"outlinewidth\": 0, \"ticks\": \"\"}}, \"type\": \"scattermapbox\"}], \"scatterpolar\": [{\"marker\": {\"colorbar\": {\"outlinewidth\": 0, \"ticks\": \"\"}}, \"type\": \"scatterpolar\"}], \"scatterpolargl\": [{\"marker\": {\"colorbar\": {\"outlinewidth\": 0, \"ticks\": \"\"}}, \"type\": \"scatterpolargl\"}], \"scatterternary\": [{\"marker\": {\"colorbar\": {\"outlinewidth\": 0, \"ticks\": \"\"}}, \"type\": \"scatterternary\"}], \"surface\": [{\"colorbar\": {\"outlinewidth\": 0, \"ticks\": \"\"}, \"colorscale\": [[0.0, \"#0d0887\"], [0.1111111111111111, \"#46039f\"], [0.2222222222222222, \"#7201a8\"], [0.3333333333333333, \"#9c179e\"], [0.4444444444444444, \"#bd3786\"], [0.5555555555555556, \"#d8576b\"], [0.6666666666666666, \"#ed7953\"], [0.7777777777777778, \"#fb9f3a\"], [0.8888888888888888, \"#fdca26\"], [1.0, \"#f0f921\"]], \"type\": \"surface\"}], \"table\": [{\"cells\": {\"fill\": {\"color\": \"#EBF0F8\"}, \"line\": {\"color\": \"white\"}}, \"header\": {\"fill\": {\"color\": \"#C8D4E3\"}, \"line\": {\"color\": \"white\"}}, \"type\": \"table\"}]}, \"layout\": {\"annotationdefaults\": {\"arrowcolor\": \"#2a3f5f\", \"arrowhead\": 0, \"arrowwidth\": 1}, \"coloraxis\": {\"colorbar\": {\"outlinewidth\": 0, \"ticks\": \"\"}}, \"colorscale\": {\"diverging\": [[0, \"#8e0152\"], [0.1, \"#c51b7d\"], [0.2, \"#de77ae\"], [0.3, \"#f1b6da\"], [0.4, \"#fde0ef\"], [0.5, \"#f7f7f7\"], [0.6, \"#e6f5d0\"], [0.7, \"#b8e186\"], [0.8, \"#7fbc41\"], [0.9, \"#4d9221\"], [1, \"#276419\"]], \"sequential\": [[0.0, \"#0d0887\"], [0.1111111111111111, \"#46039f\"], [0.2222222222222222, \"#7201a8\"], [0.3333333333333333, \"#9c179e\"], [0.4444444444444444, \"#bd3786\"], [0.5555555555555556, \"#d8576b\"], [0.6666666666666666, \"#ed7953\"], [0.7777777777777778, \"#fb9f3a\"], [0.8888888888888888, \"#fdca26\"], [1.0, \"#f0f921\"]], \"sequentialminus\": [[0.0, \"#0d0887\"], [0.1111111111111111, \"#46039f\"], [0.2222222222222222, \"#7201a8\"], [0.3333333333333333, \"#9c179e\"], [0.4444444444444444, \"#bd3786\"], [0.5555555555555556, \"#d8576b\"], [0.6666666666666666, \"#ed7953\"], [0.7777777777777778, \"#fb9f3a\"], [0.8888888888888888, \"#fdca26\"], [1.0, \"#f0f921\"]]}, \"colorway\": [\"#636efa\", \"#EF553B\", \"#00cc96\", \"#ab63fa\", \"#FFA15A\", \"#19d3f3\", \"#FF6692\", \"#B6E880\", \"#FF97FF\", \"#FECB52\"], \"font\": {\"color\": \"#2a3f5f\"}, \"geo\": {\"bgcolor\": \"white\", \"lakecolor\": \"white\", \"landcolor\": \"#E5ECF6\", \"showlakes\": true, \"showland\": true, \"subunitcolor\": \"white\"}, \"hoverlabel\": {\"align\": \"left\"}, \"hovermode\": \"closest\", \"mapbox\": {\"style\": \"light\"}, \"paper_bgcolor\": \"white\", \"plot_bgcolor\": \"#E5ECF6\", \"polar\": {\"angularaxis\": {\"gridcolor\": \"white\", \"linecolor\": \"white\", \"ticks\": \"\"}, \"bgcolor\": \"#E5ECF6\", \"radialaxis\": {\"gridcolor\": \"white\", \"linecolor\": \"white\", \"ticks\": \"\"}}, \"scene\": {\"xaxis\": {\"backgroundcolor\": \"#E5ECF6\", \"gridcolor\": \"white\", \"gridwidth\": 2, \"linecolor\": \"white\", \"showbackground\": true, \"ticks\": \"\", \"zerolinecolor\": \"white\"}, \"yaxis\": {\"backgroundcolor\": \"#E5ECF6\", \"gridcolor\": \"white\", \"gridwidth\": 2, \"linecolor\": \"white\", \"showbackground\": true, \"ticks\": \"\", \"zerolinecolor\": \"white\"}, \"zaxis\": {\"backgroundcolor\": \"#E5ECF6\", \"gridcolor\": \"white\", \"gridwidth\": 2, \"linecolor\": \"white\", \"showbackground\": true, \"ticks\": \"\", \"zerolinecolor\": \"white\"}}, \"shapedefaults\": {\"line\": {\"color\": \"#2a3f5f\"}}, \"ternary\": {\"aaxis\": {\"gridcolor\": \"white\", \"linecolor\": \"white\", \"ticks\": \"\"}, \"baxis\": {\"gridcolor\": \"white\", \"linecolor\": \"white\", \"ticks\": \"\"}, \"bgcolor\": \"#E5ECF6\", \"caxis\": {\"gridcolor\": \"white\", \"linecolor\": \"white\", \"ticks\": \"\"}}, \"title\": {\"x\": 0.05}, \"xaxis\": {\"automargin\": true, \"gridcolor\": \"white\", \"linecolor\": \"white\", \"ticks\": \"\", \"title\": {\"standoff\": 15}, \"zerolinecolor\": \"white\", \"zerolinewidth\": 2}, \"yaxis\": {\"automargin\": true, \"gridcolor\": \"white\", \"linecolor\": \"white\", \"ticks\": \"\", \"title\": {\"standoff\": 15}, \"zerolinecolor\": \"white\", \"zerolinewidth\": 2}}}, \"title\": {\"font\": {\"color\": \"#4D5663\"}}, \"xaxis\": {\"gridcolor\": \"#E1E5ED\", \"showgrid\": true, \"tickfont\": {\"color\": \"#4D5663\"}, \"title\": {\"font\": {\"color\": \"#4D5663\"}, \"text\": \"\"}, \"zerolinecolor\": \"#E1E5ED\"}, \"yaxis\": {\"gridcolor\": \"#E1E5ED\", \"showgrid\": true, \"tickfont\": {\"color\": \"#4D5663\"}, \"title\": {\"font\": {\"color\": \"#4D5663\"}, \"text\": \"kW\"}, \"zerolinecolor\": \"#E1E5ED\"}},\n",
       "                        {\"showLink\": true, \"linkText\": \"Export to plot.ly\", \"plotlyServerURL\": \"https://plot.ly\", \"responsive\": true}\n",
       "                    ).then(function(){\n",
       "                            \n",
       "var gd = document.getElementById('d9bc3299-522e-4c44-82a4-efd2cff30f01');\n",
       "var x = new MutationObserver(function (mutations, observer) {{\n",
       "        var display = window.getComputedStyle(gd).display;\n",
       "        if (!display || display === 'none') {{\n",
       "            console.log([gd, 'removed!']);\n",
       "            Plotly.purge(gd);\n",
       "            observer.disconnect();\n",
       "        }}\n",
       "}});\n",
       "\n",
       "// Listen for the removal of the full notebook cells\n",
       "var notebookContainer = gd.closest('#notebook-container');\n",
       "if (notebookContainer) {{\n",
       "    x.observe(notebookContainer, {childList: true});\n",
       "}}\n",
       "\n",
       "// Listen for the clearing of the current output cell\n",
       "var outputEl = gd.closest('.output');\n",
       "if (outputEl) {{\n",
       "    x.observe(outputEl, {childList: true});\n",
       "}}\n",
       "\n",
       "                        })\n",
       "                };\n",
       "                });\n",
       "            </script>\n",
       "        </div>"
      ]
     },
     "metadata": {},
     "output_type": "display_data"
    }
   ],
   "source": [
    "#Plot predicted values agains Actual values\n",
    "df_pre[['kW_Actual','kW_Predicted']].iplot(yTitle='kW')"
   ]
  },
  {
   "cell_type": "code",
   "execution_count": 24,
   "metadata": {},
   "outputs": [
    {
     "name": "stdout",
     "output_type": "stream",
     "text": [
      "The root mean precent error is: \n",
      "26.0%\n"
     ]
    }
   ],
   "source": [
    "residuals = df_pre['kW_Predicted']- df_pre['kW_Actual']\n",
    "mspe = round(np.mean(abs(residuals/df_pre['kW_Actual'])),2)*100\n",
    "print(f'The root mean precent error is: \\n{(mspe)}%')"
   ]
  },
  {
   "cell_type": "markdown",
   "metadata": {},
   "source": [
    "## Improving Model by Accounting for Holidays and Weekends"
   ]
  },
  {
   "cell_type": "code",
   "execution_count": 25,
   "metadata": {},
   "outputs": [
    {
     "data": {
      "text/html": [
       "<div>\n",
       "<style scoped>\n",
       "    .dataframe tbody tr th:only-of-type {\n",
       "        vertical-align: middle;\n",
       "    }\n",
       "\n",
       "    .dataframe tbody tr th {\n",
       "        vertical-align: top;\n",
       "    }\n",
       "\n",
       "    .dataframe thead th {\n",
       "        text-align: right;\n",
       "    }\n",
       "</style>\n",
       "<table border=\"1\" class=\"dataframe\">\n",
       "  <thead>\n",
       "    <tr style=\"text-align: right;\">\n",
       "      <th></th>\n",
       "      <th>Date</th>\n",
       "      <th>holiday</th>\n",
       "    </tr>\n",
       "  </thead>\n",
       "  <tbody>\n",
       "    <tr>\n",
       "      <th>0</th>\n",
       "      <td>2018-07-27</td>\n",
       "      <td>Asalha Puja</td>\n",
       "    </tr>\n",
       "    <tr>\n",
       "      <th>1</th>\n",
       "      <td>2018-07-30</td>\n",
       "      <td>Beginning of Vassa</td>\n",
       "    </tr>\n",
       "    <tr>\n",
       "      <th>2</th>\n",
       "      <td>2018-08-13</td>\n",
       "      <td>Queen's Birthday</td>\n",
       "    </tr>\n",
       "    <tr>\n",
       "      <th>3</th>\n",
       "      <td>2018-10-15</td>\n",
       "      <td>H.M. King Bhumibol Adulyadej The Great Memoria...</td>\n",
       "    </tr>\n",
       "    <tr>\n",
       "      <th>4</th>\n",
       "      <td>2018-10-23</td>\n",
       "      <td>Chulalongkorn Memorial Day</td>\n",
       "    </tr>\n",
       "  </tbody>\n",
       "</table>\n",
       "</div>"
      ],
      "text/plain": [
       "        Date                                            holiday\n",
       "0 2018-07-27                                        Asalha Puja\n",
       "1 2018-07-30                                 Beginning of Vassa\n",
       "2 2018-08-13                                   Queen's Birthday\n",
       "3 2018-10-15  H.M. King Bhumibol Adulyadej The Great Memoria...\n",
       "4 2018-10-23                         Chulalongkorn Memorial Day"
      ]
     },
     "execution_count": 25,
     "metadata": {},
     "output_type": "execute_result"
    }
   ],
   "source": [
    "df_holidays = pd.read_csv('Data/holiday_18_19.csv')\n",
    "df_holidays = df_holidays.iloc[:,1:]\n",
    "df_holidays['Date'] = pd.to_datetime(df_holidays['Date'])\n",
    "df_holidays.head()"
   ]
  },
  {
   "cell_type": "code",
   "execution_count": 26,
   "metadata": {},
   "outputs": [],
   "source": [
    "#account for holidays and weekends\n",
    "df_with_dummies = df_power_daily_total.copy()\n",
    "df_with_dummies.reset_index(inplace = True)\n",
    "\n",
    "df_with_dummies['year'] = df_with_dummies['Date'].apply(lambda x: x.year)\n",
    "df_with_dummies['month'] = df_with_dummies['Date'].apply(lambda x: x.month)\n",
    "df_with_dummies['weekday'] = df_with_dummies['Date'].apply(lambda x: x.weekday())\n",
    "\n",
    "df_with_dummies = df_with_dummies.merge(df_holidays, how='left', on='Date')\n",
    "df_with_dummies['holiday_bool'] = pd.notnull(df_with_dummies['holiday']).astype(int)\n",
    "df_with_dummies = pd.get_dummies(df_with_dummies, columns = ['month','holiday','weekday'],\n",
    "                          prefix = ['month','holiday','weekday'])"
   ]
  },
  {
   "cell_type": "code",
   "execution_count": 27,
   "metadata": {},
   "outputs": [],
   "source": [
    "#df_with_dummies.columns"
   ]
  },
  {
   "cell_type": "code",
   "execution_count": 28,
   "metadata": {},
   "outputs": [],
   "source": [
    "ext_var_list = ['Date', 'year', 'holiday_bool', 'month_1', 'month_2', 'month_3',\n",
    "       'month_4', 'month_5', 'month_6', 'month_7', 'month_8', 'month_9',\n",
    "       'month_10', 'month_11', 'month_12',\n",
    "       'holiday_ASEAN Summit Public Holiday', 'holiday_Asalha Puja',\n",
    "       'holiday_Beginning of Vassa', 'holiday_Chakri Memorial Day',\n",
    "       'holiday_Chulalongkorn Memorial Day', 'holiday_Constitution Day',\n",
    "       'holiday_Coronation Day',\n",
    "       'holiday_Coronation of King Maha Vajiralongkorn', 'holiday_Family Day',\n",
    "       \"holiday_Father's Day\",\n",
    "       \"holiday_H.M Queen Suthida Bajrasudhabimalalakshana's Birthday\",\n",
    "       'holiday_H.M. King Bhumibol Adulyadej The Great Memorial Day',\n",
    "       \"holiday_King's Birthday\", 'holiday_Labour Day', 'holiday_Māgha Pūjā',\n",
    "       \"holiday_New Year's Day\", \"holiday_New Year's Eve\",\n",
    "       \"holiday_Queen's Birthday\", \"holiday_Royal Ploughing Ceremony\",\n",
    "       'holiday_Songkran', 'holiday_Vesak', 'weekday_0', 'weekday_1',\n",
    "       'weekday_2', 'weekday_3', 'weekday_4', 'weekday_5', 'weekday_6']"
   ]
  },
  {
   "cell_type": "code",
   "execution_count": 29,
   "metadata": {},
   "outputs": [
    {
     "data": {
      "text/html": [
       "<div>\n",
       "<style scoped>\n",
       "    .dataframe tbody tr th:only-of-type {\n",
       "        vertical-align: middle;\n",
       "    }\n",
       "\n",
       "    .dataframe tbody tr th {\n",
       "        vertical-align: top;\n",
       "    }\n",
       "\n",
       "    .dataframe thead th {\n",
       "        text-align: right;\n",
       "    }\n",
       "</style>\n",
       "<table border=\"1\" class=\"dataframe\">\n",
       "  <thead>\n",
       "    <tr style=\"text-align: right;\">\n",
       "      <th></th>\n",
       "      <th>year</th>\n",
       "      <th>holiday_bool</th>\n",
       "      <th>month_1</th>\n",
       "      <th>month_2</th>\n",
       "      <th>month_3</th>\n",
       "      <th>month_4</th>\n",
       "      <th>month_5</th>\n",
       "      <th>month_6</th>\n",
       "      <th>month_7</th>\n",
       "      <th>month_8</th>\n",
       "      <th>month_9</th>\n",
       "      <th>month_10</th>\n",
       "      <th>month_11</th>\n",
       "      <th>month_12</th>\n",
       "      <th>holiday_ASEAN Summit Public Holiday</th>\n",
       "      <th>holiday_Asalha Puja</th>\n",
       "      <th>holiday_Beginning of Vassa</th>\n",
       "      <th>holiday_Chakri Memorial Day</th>\n",
       "      <th>holiday_Chulalongkorn Memorial Day</th>\n",
       "      <th>holiday_Constitution Day</th>\n",
       "      <th>holiday_Coronation Day</th>\n",
       "      <th>holiday_Coronation of King Maha Vajiralongkorn</th>\n",
       "      <th>holiday_Family Day</th>\n",
       "      <th>holiday_Father's Day</th>\n",
       "      <th>holiday_H.M Queen Suthida Bajrasudhabimalalakshana's Birthday</th>\n",
       "      <th>holiday_H.M. King Bhumibol Adulyadej The Great Memorial Day</th>\n",
       "      <th>holiday_King's Birthday</th>\n",
       "      <th>holiday_Labour Day</th>\n",
       "      <th>holiday_Māgha Pūjā</th>\n",
       "      <th>holiday_New Year's Day</th>\n",
       "      <th>holiday_New Year's Eve</th>\n",
       "      <th>holiday_Queen's Birthday</th>\n",
       "      <th>holiday_Royal Ploughing Ceremony</th>\n",
       "      <th>holiday_Songkran</th>\n",
       "      <th>holiday_Vesak</th>\n",
       "      <th>weekday_0</th>\n",
       "      <th>weekday_1</th>\n",
       "      <th>weekday_2</th>\n",
       "      <th>weekday_3</th>\n",
       "      <th>weekday_4</th>\n",
       "      <th>weekday_5</th>\n",
       "      <th>weekday_6</th>\n",
       "    </tr>\n",
       "    <tr>\n",
       "      <th>Date</th>\n",
       "      <th></th>\n",
       "      <th></th>\n",
       "      <th></th>\n",
       "      <th></th>\n",
       "      <th></th>\n",
       "      <th></th>\n",
       "      <th></th>\n",
       "      <th></th>\n",
       "      <th></th>\n",
       "      <th></th>\n",
       "      <th></th>\n",
       "      <th></th>\n",
       "      <th></th>\n",
       "      <th></th>\n",
       "      <th></th>\n",
       "      <th></th>\n",
       "      <th></th>\n",
       "      <th></th>\n",
       "      <th></th>\n",
       "      <th></th>\n",
       "      <th></th>\n",
       "      <th></th>\n",
       "      <th></th>\n",
       "      <th></th>\n",
       "      <th></th>\n",
       "      <th></th>\n",
       "      <th></th>\n",
       "      <th></th>\n",
       "      <th></th>\n",
       "      <th></th>\n",
       "      <th></th>\n",
       "      <th></th>\n",
       "      <th></th>\n",
       "      <th></th>\n",
       "      <th></th>\n",
       "      <th></th>\n",
       "      <th></th>\n",
       "      <th></th>\n",
       "      <th></th>\n",
       "      <th></th>\n",
       "      <th></th>\n",
       "      <th></th>\n",
       "    </tr>\n",
       "  </thead>\n",
       "  <tbody>\n",
       "    <tr>\n",
       "      <th>2018-07-01</th>\n",
       "      <td>2018</td>\n",
       "      <td>0</td>\n",
       "      <td>0</td>\n",
       "      <td>0</td>\n",
       "      <td>0</td>\n",
       "      <td>0</td>\n",
       "      <td>0</td>\n",
       "      <td>0</td>\n",
       "      <td>1</td>\n",
       "      <td>0</td>\n",
       "      <td>0</td>\n",
       "      <td>0</td>\n",
       "      <td>0</td>\n",
       "      <td>0</td>\n",
       "      <td>0</td>\n",
       "      <td>0</td>\n",
       "      <td>0</td>\n",
       "      <td>0</td>\n",
       "      <td>0</td>\n",
       "      <td>0</td>\n",
       "      <td>0</td>\n",
       "      <td>0</td>\n",
       "      <td>0</td>\n",
       "      <td>0</td>\n",
       "      <td>0</td>\n",
       "      <td>0</td>\n",
       "      <td>0</td>\n",
       "      <td>0</td>\n",
       "      <td>0</td>\n",
       "      <td>0</td>\n",
       "      <td>0</td>\n",
       "      <td>0</td>\n",
       "      <td>0</td>\n",
       "      <td>0</td>\n",
       "      <td>0</td>\n",
       "      <td>0</td>\n",
       "      <td>0</td>\n",
       "      <td>0</td>\n",
       "      <td>0</td>\n",
       "      <td>0</td>\n",
       "      <td>0</td>\n",
       "      <td>1</td>\n",
       "    </tr>\n",
       "    <tr>\n",
       "      <th>2018-07-02</th>\n",
       "      <td>2018</td>\n",
       "      <td>0</td>\n",
       "      <td>0</td>\n",
       "      <td>0</td>\n",
       "      <td>0</td>\n",
       "      <td>0</td>\n",
       "      <td>0</td>\n",
       "      <td>0</td>\n",
       "      <td>1</td>\n",
       "      <td>0</td>\n",
       "      <td>0</td>\n",
       "      <td>0</td>\n",
       "      <td>0</td>\n",
       "      <td>0</td>\n",
       "      <td>0</td>\n",
       "      <td>0</td>\n",
       "      <td>0</td>\n",
       "      <td>0</td>\n",
       "      <td>0</td>\n",
       "      <td>0</td>\n",
       "      <td>0</td>\n",
       "      <td>0</td>\n",
       "      <td>0</td>\n",
       "      <td>0</td>\n",
       "      <td>0</td>\n",
       "      <td>0</td>\n",
       "      <td>0</td>\n",
       "      <td>0</td>\n",
       "      <td>0</td>\n",
       "      <td>0</td>\n",
       "      <td>0</td>\n",
       "      <td>0</td>\n",
       "      <td>0</td>\n",
       "      <td>0</td>\n",
       "      <td>0</td>\n",
       "      <td>1</td>\n",
       "      <td>0</td>\n",
       "      <td>0</td>\n",
       "      <td>0</td>\n",
       "      <td>0</td>\n",
       "      <td>0</td>\n",
       "      <td>0</td>\n",
       "    </tr>\n",
       "    <tr>\n",
       "      <th>2018-07-03</th>\n",
       "      <td>2018</td>\n",
       "      <td>0</td>\n",
       "      <td>0</td>\n",
       "      <td>0</td>\n",
       "      <td>0</td>\n",
       "      <td>0</td>\n",
       "      <td>0</td>\n",
       "      <td>0</td>\n",
       "      <td>1</td>\n",
       "      <td>0</td>\n",
       "      <td>0</td>\n",
       "      <td>0</td>\n",
       "      <td>0</td>\n",
       "      <td>0</td>\n",
       "      <td>0</td>\n",
       "      <td>0</td>\n",
       "      <td>0</td>\n",
       "      <td>0</td>\n",
       "      <td>0</td>\n",
       "      <td>0</td>\n",
       "      <td>0</td>\n",
       "      <td>0</td>\n",
       "      <td>0</td>\n",
       "      <td>0</td>\n",
       "      <td>0</td>\n",
       "      <td>0</td>\n",
       "      <td>0</td>\n",
       "      <td>0</td>\n",
       "      <td>0</td>\n",
       "      <td>0</td>\n",
       "      <td>0</td>\n",
       "      <td>0</td>\n",
       "      <td>0</td>\n",
       "      <td>0</td>\n",
       "      <td>0</td>\n",
       "      <td>0</td>\n",
       "      <td>1</td>\n",
       "      <td>0</td>\n",
       "      <td>0</td>\n",
       "      <td>0</td>\n",
       "      <td>0</td>\n",
       "      <td>0</td>\n",
       "    </tr>\n",
       "    <tr>\n",
       "      <th>2018-07-04</th>\n",
       "      <td>2018</td>\n",
       "      <td>0</td>\n",
       "      <td>0</td>\n",
       "      <td>0</td>\n",
       "      <td>0</td>\n",
       "      <td>0</td>\n",
       "      <td>0</td>\n",
       "      <td>0</td>\n",
       "      <td>1</td>\n",
       "      <td>0</td>\n",
       "      <td>0</td>\n",
       "      <td>0</td>\n",
       "      <td>0</td>\n",
       "      <td>0</td>\n",
       "      <td>0</td>\n",
       "      <td>0</td>\n",
       "      <td>0</td>\n",
       "      <td>0</td>\n",
       "      <td>0</td>\n",
       "      <td>0</td>\n",
       "      <td>0</td>\n",
       "      <td>0</td>\n",
       "      <td>0</td>\n",
       "      <td>0</td>\n",
       "      <td>0</td>\n",
       "      <td>0</td>\n",
       "      <td>0</td>\n",
       "      <td>0</td>\n",
       "      <td>0</td>\n",
       "      <td>0</td>\n",
       "      <td>0</td>\n",
       "      <td>0</td>\n",
       "      <td>0</td>\n",
       "      <td>0</td>\n",
       "      <td>0</td>\n",
       "      <td>0</td>\n",
       "      <td>0</td>\n",
       "      <td>1</td>\n",
       "      <td>0</td>\n",
       "      <td>0</td>\n",
       "      <td>0</td>\n",
       "      <td>0</td>\n",
       "    </tr>\n",
       "    <tr>\n",
       "      <th>2018-07-05</th>\n",
       "      <td>2018</td>\n",
       "      <td>0</td>\n",
       "      <td>0</td>\n",
       "      <td>0</td>\n",
       "      <td>0</td>\n",
       "      <td>0</td>\n",
       "      <td>0</td>\n",
       "      <td>0</td>\n",
       "      <td>1</td>\n",
       "      <td>0</td>\n",
       "      <td>0</td>\n",
       "      <td>0</td>\n",
       "      <td>0</td>\n",
       "      <td>0</td>\n",
       "      <td>0</td>\n",
       "      <td>0</td>\n",
       "      <td>0</td>\n",
       "      <td>0</td>\n",
       "      <td>0</td>\n",
       "      <td>0</td>\n",
       "      <td>0</td>\n",
       "      <td>0</td>\n",
       "      <td>0</td>\n",
       "      <td>0</td>\n",
       "      <td>0</td>\n",
       "      <td>0</td>\n",
       "      <td>0</td>\n",
       "      <td>0</td>\n",
       "      <td>0</td>\n",
       "      <td>0</td>\n",
       "      <td>0</td>\n",
       "      <td>0</td>\n",
       "      <td>0</td>\n",
       "      <td>0</td>\n",
       "      <td>0</td>\n",
       "      <td>0</td>\n",
       "      <td>0</td>\n",
       "      <td>0</td>\n",
       "      <td>1</td>\n",
       "      <td>0</td>\n",
       "      <td>0</td>\n",
       "      <td>0</td>\n",
       "    </tr>\n",
       "  </tbody>\n",
       "</table>\n",
       "</div>"
      ],
      "text/plain": [
       "            year  holiday_bool  month_1  month_2  month_3  month_4  month_5  \\\n",
       "Date                                                                          \n",
       "2018-07-01  2018             0        0        0        0        0        0   \n",
       "2018-07-02  2018             0        0        0        0        0        0   \n",
       "2018-07-03  2018             0        0        0        0        0        0   \n",
       "2018-07-04  2018             0        0        0        0        0        0   \n",
       "2018-07-05  2018             0        0        0        0        0        0   \n",
       "\n",
       "            month_6  month_7  month_8  month_9  month_10  month_11  month_12  \\\n",
       "Date                                                                           \n",
       "2018-07-01        0        1        0        0         0         0         0   \n",
       "2018-07-02        0        1        0        0         0         0         0   \n",
       "2018-07-03        0        1        0        0         0         0         0   \n",
       "2018-07-04        0        1        0        0         0         0         0   \n",
       "2018-07-05        0        1        0        0         0         0         0   \n",
       "\n",
       "            holiday_ASEAN Summit Public Holiday  holiday_Asalha Puja  \\\n",
       "Date                                                                   \n",
       "2018-07-01                                    0                    0   \n",
       "2018-07-02                                    0                    0   \n",
       "2018-07-03                                    0                    0   \n",
       "2018-07-04                                    0                    0   \n",
       "2018-07-05                                    0                    0   \n",
       "\n",
       "            holiday_Beginning of Vassa  holiday_Chakri Memorial Day  \\\n",
       "Date                                                                  \n",
       "2018-07-01                           0                            0   \n",
       "2018-07-02                           0                            0   \n",
       "2018-07-03                           0                            0   \n",
       "2018-07-04                           0                            0   \n",
       "2018-07-05                           0                            0   \n",
       "\n",
       "            holiday_Chulalongkorn Memorial Day  holiday_Constitution Day  \\\n",
       "Date                                                                       \n",
       "2018-07-01                                   0                         0   \n",
       "2018-07-02                                   0                         0   \n",
       "2018-07-03                                   0                         0   \n",
       "2018-07-04                                   0                         0   \n",
       "2018-07-05                                   0                         0   \n",
       "\n",
       "            holiday_Coronation Day  \\\n",
       "Date                                 \n",
       "2018-07-01                       0   \n",
       "2018-07-02                       0   \n",
       "2018-07-03                       0   \n",
       "2018-07-04                       0   \n",
       "2018-07-05                       0   \n",
       "\n",
       "            holiday_Coronation of King Maha Vajiralongkorn  \\\n",
       "Date                                                         \n",
       "2018-07-01                                               0   \n",
       "2018-07-02                                               0   \n",
       "2018-07-03                                               0   \n",
       "2018-07-04                                               0   \n",
       "2018-07-05                                               0   \n",
       "\n",
       "            holiday_Family Day  holiday_Father's Day  \\\n",
       "Date                                                   \n",
       "2018-07-01                   0                     0   \n",
       "2018-07-02                   0                     0   \n",
       "2018-07-03                   0                     0   \n",
       "2018-07-04                   0                     0   \n",
       "2018-07-05                   0                     0   \n",
       "\n",
       "            holiday_H.M Queen Suthida Bajrasudhabimalalakshana's Birthday  \\\n",
       "Date                                                                        \n",
       "2018-07-01                                                  0               \n",
       "2018-07-02                                                  0               \n",
       "2018-07-03                                                  0               \n",
       "2018-07-04                                                  0               \n",
       "2018-07-05                                                  0               \n",
       "\n",
       "            holiday_H.M. King Bhumibol Adulyadej The Great Memorial Day  \\\n",
       "Date                                                                      \n",
       "2018-07-01                                                  0             \n",
       "2018-07-02                                                  0             \n",
       "2018-07-03                                                  0             \n",
       "2018-07-04                                                  0             \n",
       "2018-07-05                                                  0             \n",
       "\n",
       "            holiday_King's Birthday  holiday_Labour Day  holiday_Māgha Pūjā  \\\n",
       "Date                                                                          \n",
       "2018-07-01                        0                   0                   0   \n",
       "2018-07-02                        0                   0                   0   \n",
       "2018-07-03                        0                   0                   0   \n",
       "2018-07-04                        0                   0                   0   \n",
       "2018-07-05                        0                   0                   0   \n",
       "\n",
       "            holiday_New Year's Day  holiday_New Year's Eve  \\\n",
       "Date                                                         \n",
       "2018-07-01                       0                       0   \n",
       "2018-07-02                       0                       0   \n",
       "2018-07-03                       0                       0   \n",
       "2018-07-04                       0                       0   \n",
       "2018-07-05                       0                       0   \n",
       "\n",
       "            holiday_Queen's Birthday  holiday_Royal Ploughing Ceremony  \\\n",
       "Date                                                                     \n",
       "2018-07-01                         0                                 0   \n",
       "2018-07-02                         0                                 0   \n",
       "2018-07-03                         0                                 0   \n",
       "2018-07-04                         0                                 0   \n",
       "2018-07-05                         0                                 0   \n",
       "\n",
       "            holiday_Songkran  holiday_Vesak  weekday_0  weekday_1  weekday_2  \\\n",
       "Date                                                                           \n",
       "2018-07-01                 0              0          0          0          0   \n",
       "2018-07-02                 0              0          1          0          0   \n",
       "2018-07-03                 0              0          0          1          0   \n",
       "2018-07-04                 0              0          0          0          1   \n",
       "2018-07-05                 0              0          0          0          0   \n",
       "\n",
       "            weekday_3  weekday_4  weekday_5  weekday_6  \n",
       "Date                                                    \n",
       "2018-07-01          0          0          0          1  \n",
       "2018-07-02          0          0          0          0  \n",
       "2018-07-03          0          0          0          0  \n",
       "2018-07-04          0          0          0          0  \n",
       "2018-07-05          1          0          0          0  "
      ]
     },
     "execution_count": 29,
     "metadata": {},
     "output_type": "execute_result"
    }
   ],
   "source": [
    "exog_data = df_with_dummies[ext_var_list]\n",
    "exog_data = exog_data.set_index('Date')\n",
    "exog_data.head()"
   ]
  },
  {
   "cell_type": "code",
   "execution_count": 30,
   "metadata": {},
   "outputs": [
    {
     "data": {
      "text/html": [
       "<div>\n",
       "<style scoped>\n",
       "    .dataframe tbody tr th:only-of-type {\n",
       "        vertical-align: middle;\n",
       "    }\n",
       "\n",
       "    .dataframe tbody tr th {\n",
       "        vertical-align: top;\n",
       "    }\n",
       "\n",
       "    .dataframe thead th {\n",
       "        text-align: right;\n",
       "    }\n",
       "</style>\n",
       "<table border=\"1\" class=\"dataframe\">\n",
       "  <thead>\n",
       "    <tr style=\"text-align: right;\">\n",
       "      <th></th>\n",
       "      <th>kW</th>\n",
       "      <th>year</th>\n",
       "      <th>holiday_bool</th>\n",
       "      <th>month_1</th>\n",
       "      <th>month_2</th>\n",
       "      <th>month_3</th>\n",
       "      <th>month_4</th>\n",
       "      <th>month_5</th>\n",
       "      <th>month_6</th>\n",
       "      <th>month_7</th>\n",
       "      <th>month_8</th>\n",
       "      <th>month_9</th>\n",
       "      <th>month_10</th>\n",
       "      <th>month_11</th>\n",
       "      <th>month_12</th>\n",
       "      <th>holiday_ASEAN Summit Public Holiday</th>\n",
       "      <th>holiday_Asalha Puja</th>\n",
       "      <th>holiday_Beginning of Vassa</th>\n",
       "      <th>holiday_Chakri Memorial Day</th>\n",
       "      <th>holiday_Chulalongkorn Memorial Day</th>\n",
       "      <th>holiday_Constitution Day</th>\n",
       "      <th>holiday_Coronation Day</th>\n",
       "      <th>holiday_Coronation of King Maha Vajiralongkorn</th>\n",
       "      <th>holiday_Family Day</th>\n",
       "      <th>holiday_Father's Day</th>\n",
       "      <th>holiday_H.M Queen Suthida Bajrasudhabimalalakshana's Birthday</th>\n",
       "      <th>holiday_H.M. King Bhumibol Adulyadej The Great Memorial Day</th>\n",
       "      <th>holiday_King's Birthday</th>\n",
       "      <th>holiday_Labour Day</th>\n",
       "      <th>holiday_Māgha Pūjā</th>\n",
       "      <th>holiday_New Year's Day</th>\n",
       "      <th>holiday_New Year's Eve</th>\n",
       "      <th>holiday_Queen's Birthday</th>\n",
       "      <th>holiday_Royal Ploughing Ceremony</th>\n",
       "      <th>holiday_Songkran</th>\n",
       "      <th>holiday_Vesak</th>\n",
       "      <th>weekday_0</th>\n",
       "      <th>weekday_1</th>\n",
       "      <th>weekday_2</th>\n",
       "      <th>weekday_3</th>\n",
       "      <th>weekday_4</th>\n",
       "      <th>weekday_5</th>\n",
       "      <th>weekday_6</th>\n",
       "    </tr>\n",
       "    <tr>\n",
       "      <th>Date</th>\n",
       "      <th></th>\n",
       "      <th></th>\n",
       "      <th></th>\n",
       "      <th></th>\n",
       "      <th></th>\n",
       "      <th></th>\n",
       "      <th></th>\n",
       "      <th></th>\n",
       "      <th></th>\n",
       "      <th></th>\n",
       "      <th></th>\n",
       "      <th></th>\n",
       "      <th></th>\n",
       "      <th></th>\n",
       "      <th></th>\n",
       "      <th></th>\n",
       "      <th></th>\n",
       "      <th></th>\n",
       "      <th></th>\n",
       "      <th></th>\n",
       "      <th></th>\n",
       "      <th></th>\n",
       "      <th></th>\n",
       "      <th></th>\n",
       "      <th></th>\n",
       "      <th></th>\n",
       "      <th></th>\n",
       "      <th></th>\n",
       "      <th></th>\n",
       "      <th></th>\n",
       "      <th></th>\n",
       "      <th></th>\n",
       "      <th></th>\n",
       "      <th></th>\n",
       "      <th></th>\n",
       "      <th></th>\n",
       "      <th></th>\n",
       "      <th></th>\n",
       "      <th></th>\n",
       "      <th></th>\n",
       "      <th></th>\n",
       "      <th></th>\n",
       "      <th></th>\n",
       "    </tr>\n",
       "  </thead>\n",
       "  <tbody>\n",
       "    <tr>\n",
       "      <th>2018-07-01</th>\n",
       "      <td>3827.68</td>\n",
       "      <td>2018</td>\n",
       "      <td>0</td>\n",
       "      <td>0</td>\n",
       "      <td>0</td>\n",
       "      <td>0</td>\n",
       "      <td>0</td>\n",
       "      <td>0</td>\n",
       "      <td>0</td>\n",
       "      <td>1</td>\n",
       "      <td>0</td>\n",
       "      <td>0</td>\n",
       "      <td>0</td>\n",
       "      <td>0</td>\n",
       "      <td>0</td>\n",
       "      <td>0</td>\n",
       "      <td>0</td>\n",
       "      <td>0</td>\n",
       "      <td>0</td>\n",
       "      <td>0</td>\n",
       "      <td>0</td>\n",
       "      <td>0</td>\n",
       "      <td>0</td>\n",
       "      <td>0</td>\n",
       "      <td>0</td>\n",
       "      <td>0</td>\n",
       "      <td>0</td>\n",
       "      <td>0</td>\n",
       "      <td>0</td>\n",
       "      <td>0</td>\n",
       "      <td>0</td>\n",
       "      <td>0</td>\n",
       "      <td>0</td>\n",
       "      <td>0</td>\n",
       "      <td>0</td>\n",
       "      <td>0</td>\n",
       "      <td>0</td>\n",
       "      <td>0</td>\n",
       "      <td>0</td>\n",
       "      <td>0</td>\n",
       "      <td>0</td>\n",
       "      <td>0</td>\n",
       "      <td>1</td>\n",
       "    </tr>\n",
       "    <tr>\n",
       "      <th>2018-07-02</th>\n",
       "      <td>9109.17</td>\n",
       "      <td>2018</td>\n",
       "      <td>0</td>\n",
       "      <td>0</td>\n",
       "      <td>0</td>\n",
       "      <td>0</td>\n",
       "      <td>0</td>\n",
       "      <td>0</td>\n",
       "      <td>0</td>\n",
       "      <td>1</td>\n",
       "      <td>0</td>\n",
       "      <td>0</td>\n",
       "      <td>0</td>\n",
       "      <td>0</td>\n",
       "      <td>0</td>\n",
       "      <td>0</td>\n",
       "      <td>0</td>\n",
       "      <td>0</td>\n",
       "      <td>0</td>\n",
       "      <td>0</td>\n",
       "      <td>0</td>\n",
       "      <td>0</td>\n",
       "      <td>0</td>\n",
       "      <td>0</td>\n",
       "      <td>0</td>\n",
       "      <td>0</td>\n",
       "      <td>0</td>\n",
       "      <td>0</td>\n",
       "      <td>0</td>\n",
       "      <td>0</td>\n",
       "      <td>0</td>\n",
       "      <td>0</td>\n",
       "      <td>0</td>\n",
       "      <td>0</td>\n",
       "      <td>0</td>\n",
       "      <td>0</td>\n",
       "      <td>1</td>\n",
       "      <td>0</td>\n",
       "      <td>0</td>\n",
       "      <td>0</td>\n",
       "      <td>0</td>\n",
       "      <td>0</td>\n",
       "      <td>0</td>\n",
       "    </tr>\n",
       "    <tr>\n",
       "      <th>2018-07-03</th>\n",
       "      <td>8101.01</td>\n",
       "      <td>2018</td>\n",
       "      <td>0</td>\n",
       "      <td>0</td>\n",
       "      <td>0</td>\n",
       "      <td>0</td>\n",
       "      <td>0</td>\n",
       "      <td>0</td>\n",
       "      <td>0</td>\n",
       "      <td>1</td>\n",
       "      <td>0</td>\n",
       "      <td>0</td>\n",
       "      <td>0</td>\n",
       "      <td>0</td>\n",
       "      <td>0</td>\n",
       "      <td>0</td>\n",
       "      <td>0</td>\n",
       "      <td>0</td>\n",
       "      <td>0</td>\n",
       "      <td>0</td>\n",
       "      <td>0</td>\n",
       "      <td>0</td>\n",
       "      <td>0</td>\n",
       "      <td>0</td>\n",
       "      <td>0</td>\n",
       "      <td>0</td>\n",
       "      <td>0</td>\n",
       "      <td>0</td>\n",
       "      <td>0</td>\n",
       "      <td>0</td>\n",
       "      <td>0</td>\n",
       "      <td>0</td>\n",
       "      <td>0</td>\n",
       "      <td>0</td>\n",
       "      <td>0</td>\n",
       "      <td>0</td>\n",
       "      <td>0</td>\n",
       "      <td>1</td>\n",
       "      <td>0</td>\n",
       "      <td>0</td>\n",
       "      <td>0</td>\n",
       "      <td>0</td>\n",
       "      <td>0</td>\n",
       "    </tr>\n",
       "    <tr>\n",
       "      <th>2018-07-04</th>\n",
       "      <td>7889.48</td>\n",
       "      <td>2018</td>\n",
       "      <td>0</td>\n",
       "      <td>0</td>\n",
       "      <td>0</td>\n",
       "      <td>0</td>\n",
       "      <td>0</td>\n",
       "      <td>0</td>\n",
       "      <td>0</td>\n",
       "      <td>1</td>\n",
       "      <td>0</td>\n",
       "      <td>0</td>\n",
       "      <td>0</td>\n",
       "      <td>0</td>\n",
       "      <td>0</td>\n",
       "      <td>0</td>\n",
       "      <td>0</td>\n",
       "      <td>0</td>\n",
       "      <td>0</td>\n",
       "      <td>0</td>\n",
       "      <td>0</td>\n",
       "      <td>0</td>\n",
       "      <td>0</td>\n",
       "      <td>0</td>\n",
       "      <td>0</td>\n",
       "      <td>0</td>\n",
       "      <td>0</td>\n",
       "      <td>0</td>\n",
       "      <td>0</td>\n",
       "      <td>0</td>\n",
       "      <td>0</td>\n",
       "      <td>0</td>\n",
       "      <td>0</td>\n",
       "      <td>0</td>\n",
       "      <td>0</td>\n",
       "      <td>0</td>\n",
       "      <td>0</td>\n",
       "      <td>0</td>\n",
       "      <td>1</td>\n",
       "      <td>0</td>\n",
       "      <td>0</td>\n",
       "      <td>0</td>\n",
       "      <td>0</td>\n",
       "    </tr>\n",
       "    <tr>\n",
       "      <th>2018-07-05</th>\n",
       "      <td>7994.67</td>\n",
       "      <td>2018</td>\n",
       "      <td>0</td>\n",
       "      <td>0</td>\n",
       "      <td>0</td>\n",
       "      <td>0</td>\n",
       "      <td>0</td>\n",
       "      <td>0</td>\n",
       "      <td>0</td>\n",
       "      <td>1</td>\n",
       "      <td>0</td>\n",
       "      <td>0</td>\n",
       "      <td>0</td>\n",
       "      <td>0</td>\n",
       "      <td>0</td>\n",
       "      <td>0</td>\n",
       "      <td>0</td>\n",
       "      <td>0</td>\n",
       "      <td>0</td>\n",
       "      <td>0</td>\n",
       "      <td>0</td>\n",
       "      <td>0</td>\n",
       "      <td>0</td>\n",
       "      <td>0</td>\n",
       "      <td>0</td>\n",
       "      <td>0</td>\n",
       "      <td>0</td>\n",
       "      <td>0</td>\n",
       "      <td>0</td>\n",
       "      <td>0</td>\n",
       "      <td>0</td>\n",
       "      <td>0</td>\n",
       "      <td>0</td>\n",
       "      <td>0</td>\n",
       "      <td>0</td>\n",
       "      <td>0</td>\n",
       "      <td>0</td>\n",
       "      <td>0</td>\n",
       "      <td>0</td>\n",
       "      <td>1</td>\n",
       "      <td>0</td>\n",
       "      <td>0</td>\n",
       "      <td>0</td>\n",
       "    </tr>\n",
       "  </tbody>\n",
       "</table>\n",
       "</div>"
      ],
      "text/plain": [
       "                 kW  year  holiday_bool  month_1  month_2  month_3  month_4  \\\n",
       "Date                                                                          \n",
       "2018-07-01  3827.68  2018             0        0        0        0        0   \n",
       "2018-07-02  9109.17  2018             0        0        0        0        0   \n",
       "2018-07-03  8101.01  2018             0        0        0        0        0   \n",
       "2018-07-04  7889.48  2018             0        0        0        0        0   \n",
       "2018-07-05  7994.67  2018             0        0        0        0        0   \n",
       "\n",
       "            month_5  month_6  month_7  month_8  month_9  month_10  month_11  \\\n",
       "Date                                                                          \n",
       "2018-07-01        0        0        1        0        0         0         0   \n",
       "2018-07-02        0        0        1        0        0         0         0   \n",
       "2018-07-03        0        0        1        0        0         0         0   \n",
       "2018-07-04        0        0        1        0        0         0         0   \n",
       "2018-07-05        0        0        1        0        0         0         0   \n",
       "\n",
       "            month_12  holiday_ASEAN Summit Public Holiday  \\\n",
       "Date                                                        \n",
       "2018-07-01         0                                    0   \n",
       "2018-07-02         0                                    0   \n",
       "2018-07-03         0                                    0   \n",
       "2018-07-04         0                                    0   \n",
       "2018-07-05         0                                    0   \n",
       "\n",
       "            holiday_Asalha Puja  holiday_Beginning of Vassa  \\\n",
       "Date                                                          \n",
       "2018-07-01                    0                           0   \n",
       "2018-07-02                    0                           0   \n",
       "2018-07-03                    0                           0   \n",
       "2018-07-04                    0                           0   \n",
       "2018-07-05                    0                           0   \n",
       "\n",
       "            holiday_Chakri Memorial Day  holiday_Chulalongkorn Memorial Day  \\\n",
       "Date                                                                          \n",
       "2018-07-01                            0                                   0   \n",
       "2018-07-02                            0                                   0   \n",
       "2018-07-03                            0                                   0   \n",
       "2018-07-04                            0                                   0   \n",
       "2018-07-05                            0                                   0   \n",
       "\n",
       "            holiday_Constitution Day  holiday_Coronation Day  \\\n",
       "Date                                                           \n",
       "2018-07-01                         0                       0   \n",
       "2018-07-02                         0                       0   \n",
       "2018-07-03                         0                       0   \n",
       "2018-07-04                         0                       0   \n",
       "2018-07-05                         0                       0   \n",
       "\n",
       "            holiday_Coronation of King Maha Vajiralongkorn  \\\n",
       "Date                                                         \n",
       "2018-07-01                                               0   \n",
       "2018-07-02                                               0   \n",
       "2018-07-03                                               0   \n",
       "2018-07-04                                               0   \n",
       "2018-07-05                                               0   \n",
       "\n",
       "            holiday_Family Day  holiday_Father's Day  \\\n",
       "Date                                                   \n",
       "2018-07-01                   0                     0   \n",
       "2018-07-02                   0                     0   \n",
       "2018-07-03                   0                     0   \n",
       "2018-07-04                   0                     0   \n",
       "2018-07-05                   0                     0   \n",
       "\n",
       "            holiday_H.M Queen Suthida Bajrasudhabimalalakshana's Birthday  \\\n",
       "Date                                                                        \n",
       "2018-07-01                                                  0               \n",
       "2018-07-02                                                  0               \n",
       "2018-07-03                                                  0               \n",
       "2018-07-04                                                  0               \n",
       "2018-07-05                                                  0               \n",
       "\n",
       "            holiday_H.M. King Bhumibol Adulyadej The Great Memorial Day  \\\n",
       "Date                                                                      \n",
       "2018-07-01                                                  0             \n",
       "2018-07-02                                                  0             \n",
       "2018-07-03                                                  0             \n",
       "2018-07-04                                                  0             \n",
       "2018-07-05                                                  0             \n",
       "\n",
       "            holiday_King's Birthday  holiday_Labour Day  holiday_Māgha Pūjā  \\\n",
       "Date                                                                          \n",
       "2018-07-01                        0                   0                   0   \n",
       "2018-07-02                        0                   0                   0   \n",
       "2018-07-03                        0                   0                   0   \n",
       "2018-07-04                        0                   0                   0   \n",
       "2018-07-05                        0                   0                   0   \n",
       "\n",
       "            holiday_New Year's Day  holiday_New Year's Eve  \\\n",
       "Date                                                         \n",
       "2018-07-01                       0                       0   \n",
       "2018-07-02                       0                       0   \n",
       "2018-07-03                       0                       0   \n",
       "2018-07-04                       0                       0   \n",
       "2018-07-05                       0                       0   \n",
       "\n",
       "            holiday_Queen's Birthday  holiday_Royal Ploughing Ceremony  \\\n",
       "Date                                                                     \n",
       "2018-07-01                         0                                 0   \n",
       "2018-07-02                         0                                 0   \n",
       "2018-07-03                         0                                 0   \n",
       "2018-07-04                         0                                 0   \n",
       "2018-07-05                         0                                 0   \n",
       "\n",
       "            holiday_Songkran  holiday_Vesak  weekday_0  weekday_1  weekday_2  \\\n",
       "Date                                                                           \n",
       "2018-07-01                 0              0          0          0          0   \n",
       "2018-07-02                 0              0          1          0          0   \n",
       "2018-07-03                 0              0          0          1          0   \n",
       "2018-07-04                 0              0          0          0          1   \n",
       "2018-07-05                 0              0          0          0          0   \n",
       "\n",
       "            weekday_3  weekday_4  weekday_5  weekday_6  \n",
       "Date                                                    \n",
       "2018-07-01          0          0          0          1  \n",
       "2018-07-02          0          0          0          0  \n",
       "2018-07-03          0          0          0          0  \n",
       "2018-07-04          0          0          0          0  \n",
       "2018-07-05          1          0          0          0  "
      ]
     },
     "execution_count": 30,
     "metadata": {},
     "output_type": "execute_result"
    }
   ],
   "source": [
    "df_with_dummies = df_with_dummies.set_index('Date')\n",
    "df_with_dummies.head()"
   ]
  },
  {
   "cell_type": "code",
   "execution_count": 31,
   "metadata": {},
   "outputs": [],
   "source": [
    "from datetime import timedelta\n",
    "#set training data - Use all values until train_end\n",
    "\n",
    "# Train 70%\n",
    "train_end = df_with_dummies.iloc[round(len(df_with_dummies)*0.7)].name\n",
    "# Test 30%\n",
    "test_start = df_with_dummies.iloc[round(len(df_with_dummies)*0.7)+1].name\n",
    "\n",
    "train_df = df_with_dummies['kW'][:train_end]\n",
    "test_df = df_with_dummies['kW'][test_start:]"
   ]
  },
  {
   "cell_type": "code",
   "execution_count": 32,
   "metadata": {},
   "outputs": [
    {
     "name": "stderr",
     "output_type": "stream",
     "text": [
      "C:\\Users\\moham\\anaconda3\\lib\\site-packages\\statsmodels\\tsa\\base\\tsa_model.py:581: ValueWarning:\n",
      "\n",
      "A date index has been provided, but it has no associated frequency information and so will be ignored when e.g. forecasting.\n",
      "\n",
      "C:\\Users\\moham\\anaconda3\\lib\\site-packages\\statsmodels\\tsa\\base\\tsa_model.py:581: ValueWarning:\n",
      "\n",
      "A date index has been provided, but it has no associated frequency information and so will be ignored when e.g. forecasting.\n",
      "\n",
      "C:\\Users\\moham\\anaconda3\\lib\\site-packages\\statsmodels\\base\\model.py:566: ConvergenceWarning:\n",
      "\n",
      "Maximum Likelihood optimization failed to converge. Check mle_retvals\n",
      "\n"
     ]
    },
    {
     "name": "stdout",
     "output_type": "stream",
     "text": [
      "                                      SARIMAX Results                                      \n",
      "===========================================================================================\n",
      "Dep. Variable:                                  kW   No. Observations:                  387\n",
      "Model:             SARIMAX(4, 0, 6)x(1, 0, [1], 7)   Log Likelihood               -3059.875\n",
      "Date:                             Mon, 08 Feb 2021   AIC                           6229.751\n",
      "Time:                                     23:20:47   BIC                           6447.464\n",
      "Sample:                                          0   HQIC                          6316.080\n",
      "                                             - 387                                         \n",
      "Covariance Type:                               opg                                         \n",
      "=================================================================================================================================\n",
      "                                                                    coef    std err          z      P>|z|      [0.025      0.975]\n",
      "---------------------------------------------------------------------------------------------------------------------------------\n",
      "year                                                           -474.3601      0.039  -1.23e+04      0.000    -474.436    -474.284\n",
      "holiday_bool                                                  -3505.2769    400.664     -8.749      0.000   -4290.565   -2719.989\n",
      "month_1                                                        3.544e+05    204.094   1736.302      0.000    3.54e+05    3.55e+05\n",
      "month_2                                                        3.545e+05    253.167   1400.400      0.000    3.54e+05    3.55e+05\n",
      "month_3                                                        3.552e+05    324.603   1094.117      0.000    3.55e+05    3.56e+05\n",
      "month_4                                                        3.558e+05    215.121   1653.801      0.000    3.55e+05    3.56e+05\n",
      "month_5                                                         3.56e+05    262.196   1357.893      0.000    3.56e+05    3.57e+05\n",
      "month_6                                                        3.557e+05    295.913   1202.144      0.000    3.55e+05    3.56e+05\n",
      "month_7                                                        3.555e+05    233.026   1525.539      0.000    3.55e+05    3.56e+05\n",
      "month_8                                                        3.553e+05    227.340   1562.704      0.000    3.55e+05    3.56e+05\n",
      "month_9                                                        3.548e+05    222.700   1593.343      0.000    3.54e+05    3.55e+05\n",
      "month_10                                                       3.545e+05    226.723   1563.765      0.000    3.54e+05    3.55e+05\n",
      "month_11                                                       3.538e+05    280.389   1261.996      0.000    3.53e+05    3.54e+05\n",
      "month_12                                                       3.547e+05    392.259    904.206      0.000    3.54e+05    3.55e+05\n",
      "holiday_ASEAN Summit Public Holiday                            1.787e-09   2017.461   8.86e-13      1.000   -3954.150    3954.150\n",
      "holiday_Asalha Puja                                           -1288.8084    550.030     -2.343      0.019   -2366.847    -210.770\n",
      "holiday_Beginning of Vassa                                    -1569.5327   1113.028     -1.410      0.158   -3751.028     611.962\n",
      "holiday_Chakri Memorial Day                                   -1687.7822   1230.171     -1.372      0.170   -4098.872     723.308\n",
      "holiday_Chulalongkorn Memorial Day                             -937.4276   1110.894     -0.844      0.399   -3114.739    1239.884\n",
      "holiday_Constitution Day                                       -454.6231   2168.904     -0.210      0.834   -4705.598    3796.351\n",
      "holiday_Coronation Day                                        -1387.6920    662.322     -2.095      0.036   -2685.820     -89.564\n",
      "holiday_Coronation of King Maha Vajiralongkorn                 2077.6275    513.412      4.047      0.000    1071.359    3083.896\n",
      "holiday_Family Day                                             2885.6762    658.565      4.382      0.000    1594.913    4176.439\n",
      "holiday_Father's Day                                          -1121.3982   3882.674     -0.289      0.773   -8731.300    6488.503\n",
      "holiday_H.M Queen Suthida Bajrasudhabimalalakshana's Birthday  -904.3910   1455.385     -0.621      0.534   -3756.893    1948.111\n",
      "holiday_H.M. King Bhumibol Adulyadej The Great Memorial Day     200.8282   2258.350      0.089      0.929   -4225.456    4627.113\n",
      "holiday_King's Birthday                                       -1121.4025   2159.403     -0.519      0.604   -5353.755    3110.950\n",
      "holiday_Labour Day                                             4726.3062   1112.800      4.247      0.000    2545.258    6907.354\n",
      "holiday_Māgha Pūjā                                             -131.7730    734.352     -0.179      0.858   -1571.077    1307.531\n",
      "holiday_New Year's Day                                         -707.4516   2918.010     -0.242      0.808   -6426.645    5011.742\n",
      "holiday_New Year's Eve                                        -1441.1720   3185.860     -0.452      0.651   -7685.343    4802.999\n",
      "holiday_Queen's Birthday                                       -696.3765   1460.183     -0.477      0.633   -3558.282    2165.529\n",
      "holiday_Royal Ploughing Ceremony                                264.6771   1664.795      0.159      0.874   -2998.261    3527.615\n",
      "holiday_Songkran                                                597.5312    443.828      1.346      0.178    -272.356    1467.419\n",
      "holiday_Vesak                                                  -808.0923    988.276     -0.818      0.414   -2745.077    1128.892\n",
      "weekday_0                                                      6.098e+05     99.701   6116.104      0.000     6.1e+05     6.1e+05\n",
      "weekday_1                                                      6.098e+05    129.286   4716.796      0.000     6.1e+05     6.1e+05\n",
      "weekday_2                                                      6.097e+05    114.301   5334.395      0.000     6.1e+05     6.1e+05\n",
      "weekday_3                                                      6.097e+05    129.138   4721.631      0.000    6.09e+05     6.1e+05\n",
      "weekday_4                                                      6.096e+05    112.400   5423.715      0.000    6.09e+05     6.1e+05\n",
      "weekday_5                                                       6.06e+05     94.059   6442.594      0.000    6.06e+05    6.06e+05\n",
      "weekday_6                                                      6.056e+05    121.819   4971.180      0.000    6.05e+05    6.06e+05\n",
      "ar.L1                                                             0.4592      0.097      4.746      0.000       0.270       0.649\n",
      "ar.L2                                                             0.9748      0.120      8.111      0.000       0.739       1.210\n",
      "ar.L3                                                             0.3940      0.114      3.444      0.001       0.170       0.618\n",
      "ar.L4                                                            -0.9009      0.085    -10.647      0.000      -1.067      -0.735\n",
      "ma.L1                                                            -0.1437      0.114     -1.259      0.208      -0.367       0.080\n",
      "ma.L2                                                            -1.1808      0.115    -10.232      0.000      -1.407      -0.955\n",
      "ma.L3                                                            -0.5986      0.116     -5.149      0.000      -0.826      -0.371\n",
      "ma.L4                                                             0.9264      0.092     10.108      0.000       0.747       1.106\n",
      "ma.L5                                                             0.2749      0.066      4.181      0.000       0.146       0.404\n",
      "ma.L6                                                            -0.1670      0.059     -2.823      0.005      -0.283      -0.051\n",
      "ar.S.L7                                                          -0.8318      0.436     -1.908      0.056      -1.686       0.023\n",
      "ma.S.L7                                                           0.8628      0.406      2.124      0.034       0.067       1.659\n",
      "sigma2                                                         4.611e+05   3.41e+04     13.517      0.000    3.94e+05    5.28e+05\n",
      "===================================================================================\n",
      "Ljung-Box (L1) (Q):                   0.02   Jarque-Bera (JB):               456.90\n",
      "Prob(Q):                              0.88   Prob(JB):                         0.00\n",
      "Heteroskedasticity (H):               2.08   Skew:                            -0.16\n",
      "Prob(H) (two-sided):                  0.00   Kurtosis:                         8.31\n",
      "===================================================================================\n",
      "\n",
      "Warnings:\n",
      "[1] Covariance matrix calculated using the outer product of gradients (complex-step).\n",
      "[2] Covariance matrix is singular or near-singular, with condition number 2.98e+20. Standard errors may be unstable.\n"
     ]
    }
   ],
   "source": [
    "# fit model\n",
    "model_fit = sm.tsa.statespace.SARIMAX(endog = train_df,\n",
    "                                        exog = exog_data[:train_end],  \n",
    "                                        trend='n',\n",
    "                                        order=(4,0,6),\n",
    "                                        seasonal_order=(1,0,1,7)).fit()\n",
    "print(model_fit.summary())"
   ]
  },
  {
   "cell_type": "code",
   "execution_count": 33,
   "metadata": {},
   "outputs": [],
   "source": [
    "#Set prediction preiod  - this needs to be a datetime\n",
    "pred_start_date = test_df.index[0]\n",
    "pred_end_date = test_df.index[-1]"
   ]
  },
  {
   "cell_type": "code",
   "execution_count": 34,
   "metadata": {},
   "outputs": [
    {
     "name": "stderr",
     "output_type": "stream",
     "text": [
      "C:\\Users\\moham\\anaconda3\\lib\\site-packages\\statsmodels\\tsa\\base\\tsa_model.py:376: ValueWarning:\n",
      "\n",
      "No supported index is available. Prediction results will be given with an integer index beginning at `start`.\n",
      "\n"
     ]
    }
   ],
   "source": [
    "predictions = model_fit.forecast(steps = 165,exog = exog_data[pred_start_date:pred_end_date])"
   ]
  },
  {
   "cell_type": "code",
   "execution_count": 35,
   "metadata": {},
   "outputs": [],
   "source": [
    "#Create dataframe with Actual values, Predicted values and residuals\n",
    "df_pre_new = pd.DataFrame(columns= ['kW_Actual'],data = test_df.values)\n",
    "df_pre_new ['kW_Predicted'] = predictions.values\n",
    "df_pre_new ['Residuals'] = df_pre_new ['kW_Actual'] - df_pre_new ['kW_Predicted']\n",
    "df_pre_new.index = test_df.index"
   ]
  },
  {
   "cell_type": "code",
   "execution_count": 36,
   "metadata": {},
   "outputs": [
    {
     "data": {
      "application/vnd.plotly.v1+json": {
       "config": {
        "linkText": "Export to plot.ly",
        "plotlyServerURL": "https://plot.ly",
        "showLink": true
       },
       "data": [
        {
         "line": {
          "color": "rgba(255, 153, 51, 1.0)",
          "dash": "solid",
          "shape": "linear",
          "width": 1.3
         },
         "mode": "lines",
         "name": "kW_Actual",
         "text": "",
         "type": "scatter",
         "x": [
          "2019-07-21",
          "2019-07-22",
          "2019-07-23",
          "2019-07-24",
          "2019-07-25",
          "2019-07-26",
          "2019-07-27",
          "2019-07-28",
          "2019-07-29",
          "2019-07-30",
          "2019-07-31",
          "2019-08-01",
          "2019-08-02",
          "2019-08-03",
          "2019-08-04",
          "2019-08-05",
          "2019-08-06",
          "2019-08-07",
          "2019-08-08",
          "2019-08-09",
          "2019-08-10",
          "2019-08-11",
          "2019-08-12",
          "2019-08-13",
          "2019-08-14",
          "2019-08-15",
          "2019-08-16",
          "2019-08-17",
          "2019-08-18",
          "2019-08-19",
          "2019-08-20",
          "2019-08-21",
          "2019-08-22",
          "2019-08-23",
          "2019-08-24",
          "2019-08-25",
          "2019-08-26",
          "2019-08-27",
          "2019-08-28",
          "2019-08-29",
          "2019-08-30",
          "2019-08-31",
          "2019-09-01",
          "2019-09-02",
          "2019-09-03",
          "2019-09-04",
          "2019-09-05",
          "2019-09-06",
          "2019-09-07",
          "2019-09-08",
          "2019-09-09",
          "2019-09-10",
          "2019-09-11",
          "2019-09-12",
          "2019-09-13",
          "2019-09-14",
          "2019-09-15",
          "2019-09-16",
          "2019-09-17",
          "2019-09-18",
          "2019-09-19",
          "2019-09-20",
          "2019-09-21",
          "2019-09-22",
          "2019-09-23",
          "2019-09-24",
          "2019-09-25",
          "2019-09-26",
          "2019-09-27",
          "2019-09-28",
          "2019-09-29",
          "2019-09-30",
          "2019-10-01",
          "2019-10-02",
          "2019-10-03",
          "2019-10-04",
          "2019-10-05",
          "2019-10-06",
          "2019-10-07",
          "2019-10-08",
          "2019-10-09",
          "2019-10-10",
          "2019-10-11",
          "2019-10-12",
          "2019-10-13",
          "2019-10-14",
          "2019-10-15",
          "2019-10-16",
          "2019-10-17",
          "2019-10-18",
          "2019-10-19",
          "2019-10-20",
          "2019-10-21",
          "2019-10-22",
          "2019-10-23",
          "2019-10-24",
          "2019-10-25",
          "2019-10-26",
          "2019-10-27",
          "2019-10-28",
          "2019-10-29",
          "2019-10-30",
          "2019-10-31",
          "2019-11-01",
          "2019-11-02",
          "2019-11-03",
          "2019-11-04",
          "2019-11-05",
          "2019-11-06",
          "2019-11-07",
          "2019-11-08",
          "2019-11-09",
          "2019-11-10",
          "2019-11-11",
          "2019-11-12",
          "2019-11-13",
          "2019-11-14",
          "2019-11-15",
          "2019-11-16",
          "2019-11-17",
          "2019-11-18",
          "2019-11-19",
          "2019-11-20",
          "2019-11-21",
          "2019-11-22",
          "2019-11-23",
          "2019-11-24",
          "2019-11-25",
          "2019-11-26",
          "2019-11-27",
          "2019-11-28",
          "2019-11-29",
          "2019-11-30",
          "2019-12-01",
          "2019-12-02",
          "2019-12-03",
          "2019-12-04",
          "2019-12-05",
          "2019-12-05",
          "2019-12-06",
          "2019-12-07",
          "2019-12-08",
          "2019-12-09",
          "2019-12-10",
          "2019-12-11",
          "2019-12-12",
          "2019-12-13",
          "2019-12-14",
          "2019-12-15",
          "2019-12-16",
          "2019-12-17",
          "2019-12-18",
          "2019-12-19",
          "2019-12-20",
          "2019-12-21",
          "2019-12-22",
          "2019-12-23",
          "2019-12-24",
          "2019-12-25",
          "2019-12-26",
          "2019-12-27",
          "2019-12-28",
          "2019-12-29",
          "2019-12-30",
          "2019-12-31"
         ],
         "y": [
          3209.2000000000003,
          8463.83,
          8706.77,
          7381.35,
          7517.539999999999,
          7635.81,
          4129.790000000001,
          2488.04,
          2971.53,
          8435.76,
          8010.359999999999,
          6950.27,
          7368.570000000001,
          3887.6299999999997,
          2419.8500000000004,
          7060.84,
          7400.18,
          7049.160000000001,
          6999.29,
          7350.09,
          3450.8900000000003,
          2840.3199999999997,
          3173.3,
          8040.15,
          7589,
          6984.31,
          6910.99,
          2828.2000000000003,
          3804.9,
          8308.35,
          7961.740000000001,
          7706.48,
          7623.43,
          7585.470000000001,
          3923.0600000000004,
          2823.61,
          7881.07,
          8077.280000000001,
          7253.370000000001,
          7023.990000000001,
          6732.29,
          4737.95,
          3429.56,
          7326.79,
          7162.66,
          6474.58,
          6495.78,
          6971.379999999999,
          4038.2,
          3081.3800000000006,
          7271.9,
          7219.22,
          7083.61,
          6838.37,
          7190.9800000000005,
          3731.61,
          2402.47,
          5983.3099999999995,
          6934.420000000001,
          7326.549999999999,
          6949.5599999999995,
          6313.470000000001,
          3428.9399999999996,
          3009.83,
          6315.14,
          6738.329999999999,
          7101.35,
          7437.33,
          6877.360000000001,
          2762.03,
          2505.8499999999995,
          7709.12,
          7518.23,
          7469.57,
          7625.619999999999,
          6557.31,
          2843.19,
          1969.7700000000002,
          6949.450000000001,
          7128.4,
          6722.900000000001,
          6705.339999999999,
          6841.91,
          3275.07,
          2900.76,
          3018.98,
          8282.33,
          7456.110000000001,
          7382.9800000000005,
          7454.669999999999,
          3078.32,
          2827.73,
          7643.709999999999,
          7380.740000000001,
          2568.23,
          7071.56,
          7454.63,
          2990.46,
          3272.02,
          7407.84,
          6893.459999999999,
          6067.3099999999995,
          6140.37,
          6434.469999999999,
          3166.3100000000004,
          2994.559999999999,
          6350.4,
          6505.3099999999995,
          6744.18,
          6068.24,
          5856.209999999999,
          2337.5999999999995,
          2064.46,
          5732.57,
          6346.460000000001,
          5628.4400000000005,
          6453.75,
          6050.380000000001,
          2730.96,
          2729.3799999999997,
          6606.139999999999,
          6427.1,
          6094.57,
          6173.08,
          6421.839999999999,
          2832.4700000000003,
          2097.88,
          6201.91,
          6034.34,
          6131.0199999999995,
          6057.759999999999,
          6438.71,
          2661.81,
          2322.83,
          6677.72,
          6177.67,
          5219.37,
          2095.4900000000002,
          2095.4900000000002,
          5307.18,
          2521.64,
          2323.7400000000002,
          4929.49,
          1725.3899999999999,
          5049.209999999999,
          5192.09,
          5174.28,
          2396.2000000000003,
          2496.59,
          6637.5599999999995,
          6905.759999999999,
          5984.52,
          6181.35,
          6608.050000000001,
          2139.35,
          2342.1800000000003,
          6808.969999999999,
          6111.030000000001,
          6275.1,
          6331.14,
          6358.84,
          3021.9700000000007,
          2660.1,
          2241.3,
          2228.02
         ]
        },
        {
         "line": {
          "color": "rgba(55, 128, 191, 1.0)",
          "dash": "solid",
          "shape": "linear",
          "width": 1.3
         },
         "mode": "lines",
         "name": "kW_Predicted",
         "text": "",
         "type": "scatter",
         "x": [
          "2019-07-21",
          "2019-07-22",
          "2019-07-23",
          "2019-07-24",
          "2019-07-25",
          "2019-07-26",
          "2019-07-27",
          "2019-07-28",
          "2019-07-29",
          "2019-07-30",
          "2019-07-31",
          "2019-08-01",
          "2019-08-02",
          "2019-08-03",
          "2019-08-04",
          "2019-08-05",
          "2019-08-06",
          "2019-08-07",
          "2019-08-08",
          "2019-08-09",
          "2019-08-10",
          "2019-08-11",
          "2019-08-12",
          "2019-08-13",
          "2019-08-14",
          "2019-08-15",
          "2019-08-16",
          "2019-08-17",
          "2019-08-18",
          "2019-08-19",
          "2019-08-20",
          "2019-08-21",
          "2019-08-22",
          "2019-08-23",
          "2019-08-24",
          "2019-08-25",
          "2019-08-26",
          "2019-08-27",
          "2019-08-28",
          "2019-08-29",
          "2019-08-30",
          "2019-08-31",
          "2019-09-01",
          "2019-09-02",
          "2019-09-03",
          "2019-09-04",
          "2019-09-05",
          "2019-09-06",
          "2019-09-07",
          "2019-09-08",
          "2019-09-09",
          "2019-09-10",
          "2019-09-11",
          "2019-09-12",
          "2019-09-13",
          "2019-09-14",
          "2019-09-15",
          "2019-09-16",
          "2019-09-17",
          "2019-09-18",
          "2019-09-19",
          "2019-09-20",
          "2019-09-21",
          "2019-09-22",
          "2019-09-23",
          "2019-09-24",
          "2019-09-25",
          "2019-09-26",
          "2019-09-27",
          "2019-09-28",
          "2019-09-29",
          "2019-09-30",
          "2019-10-01",
          "2019-10-02",
          "2019-10-03",
          "2019-10-04",
          "2019-10-05",
          "2019-10-06",
          "2019-10-07",
          "2019-10-08",
          "2019-10-09",
          "2019-10-10",
          "2019-10-11",
          "2019-10-12",
          "2019-10-13",
          "2019-10-14",
          "2019-10-15",
          "2019-10-16",
          "2019-10-17",
          "2019-10-18",
          "2019-10-19",
          "2019-10-20",
          "2019-10-21",
          "2019-10-22",
          "2019-10-23",
          "2019-10-24",
          "2019-10-25",
          "2019-10-26",
          "2019-10-27",
          "2019-10-28",
          "2019-10-29",
          "2019-10-30",
          "2019-10-31",
          "2019-11-01",
          "2019-11-02",
          "2019-11-03",
          "2019-11-04",
          "2019-11-05",
          "2019-11-06",
          "2019-11-07",
          "2019-11-08",
          "2019-11-09",
          "2019-11-10",
          "2019-11-11",
          "2019-11-12",
          "2019-11-13",
          "2019-11-14",
          "2019-11-15",
          "2019-11-16",
          "2019-11-17",
          "2019-11-18",
          "2019-11-19",
          "2019-11-20",
          "2019-11-21",
          "2019-11-22",
          "2019-11-23",
          "2019-11-24",
          "2019-11-25",
          "2019-11-26",
          "2019-11-27",
          "2019-11-28",
          "2019-11-29",
          "2019-11-30",
          "2019-12-01",
          "2019-12-02",
          "2019-12-03",
          "2019-12-04",
          "2019-12-05",
          "2019-12-05",
          "2019-12-06",
          "2019-12-07",
          "2019-12-08",
          "2019-12-09",
          "2019-12-10",
          "2019-12-11",
          "2019-12-12",
          "2019-12-13",
          "2019-12-14",
          "2019-12-15",
          "2019-12-16",
          "2019-12-17",
          "2019-12-18",
          "2019-12-19",
          "2019-12-20",
          "2019-12-21",
          "2019-12-22",
          "2019-12-23",
          "2019-12-24",
          "2019-12-25",
          "2019-12-26",
          "2019-12-27",
          "2019-12-28",
          "2019-12-29",
          "2019-12-30",
          "2019-12-31"
         ],
         "y": [
          3500.5127013131587,
          7571.311838861785,
          7659.550474531605,
          7728.4158871813615,
          7622.593851620561,
          7548.544197690052,
          3923.403192334944,
          3424.2972167307166,
          7729.687452976312,
          7665.051083486068,
          7552.14388931973,
          7398.224919951721,
          7164.129255880027,
          3616.5430202710386,
          3147.1421796621644,
          7290.765449375971,
          7398.432033068045,
          7203.987201569945,
          7260.247035355567,
          7127.89467755726,
          3400.205382274215,
          3084.234323051911,
          2998.298894540145,
          7246.071904419775,
          7172.9524810669345,
          7121.290892301388,
          7079.842596616134,
          3412.7964685296574,
          3003.8036497354597,
          7249.157638993741,
          7235.802989275556,
          7208.6513355163415,
          7217.08595661062,
          7090.101950231319,
          3496.7043687276355,
          3068.379648517078,
          7305.282284013585,
          7350.592223941934,
          7236.405806360731,
          7307.685480897859,
          7170.186271929697,
          3560.5091153371027,
          2750.751665200015,
          6918.237397708537,
          6999.663764621101,
          6893.432421192806,
          6908.954084382858,
          6818.11114172788,
          3134.100530857292,
          2766.7219611645673,
          6948.831939672903,
          6963.584903569907,
          6892.044550137181,
          6872.214582251435,
          6769.710468772536,
          3129.601846057899,
          2698.2284968583017,
          6911.519509534698,
          6920.219311391854,
          6829.815128260884,
          6847.2072147827,
          6704.447111132295,
          3071.8530092818196,
          2659.311465897502,
          6847.068474631218,
          6889.808504113272,
          6775.584639486902,
          6803.295010309889,
          6685.525754814236,
          3041.322326894866,
          2654.233688431099,
          6836.351623286354,
          6587.414800684683,
          6503.112943493526,
          6511.690858961342,
          6415.4699579488915,
          2764.081054575103,
          2376.092601799033,
          6581.976589317482,
          6609.296318228247,
          6534.395332264212,
          6548.0409552214105,
          6438.751973634275,
          2813.1510993183474,
          2404.5764654076816,
          3307.4431217690617,
          6648.5371713044215,
          6556.725161303521,
          6582.1150526259335,
          6460.057155844181,
          2821.0008479376697,
          2424.6567019390995,
          6612.636885613022,
          6652.869584802726,
          2110.8111320572793,
          6567.532087735865,
          6455.110661117963,
          2806.496757968956,
          2408.325745295879,
          6597.052111041309,
          6628.106311372152,
          6539.212882172691,
          6545.01197116341,
          5740.4123774335285,
          2093.116917527027,
          1689.8383796519574,
          2381.9773167973003,
          2409.255664073595,
          5824.13681763524,
          5838.592342026439,
          5721.027838825732,
          2085.2173813600857,
          1681.2939511661934,
          5877.877054347351,
          5915.950890337665,
          5823.291171471745,
          5843.322495252646,
          5729.170267058834,
          2087.8407943047587,
          1694.2093927857009,
          5888.267767202186,
          5927.2573283855,
          5838.097650058734,
          5853.823252430331,
          5745.358660606767,
          2104.5812781529626,
          1707.5197677987978,
          5905.157312444545,
          5939.793828485658,
          5853.175530087215,
          5867.4461179497375,
          5754.505650336798,
          2113.860382728108,
          2546.719238393682,
          6743.666067081317,
          6776.7609677015325,
          6684.8420056224895,
          2073.7974266108276,
          2071.1453697446573,
          6584.967007501369,
          2941.481066999716,
          2539.8543273953896,
          6735.430622168166,
          2807.549000143108,
          6676.038975647958,
          6689.742240279474,
          6572.892908609181,
          2932.112946752251,
          2530.4885360446424,
          6724.640572448692,
          6759.000094532175,
          6666.497019029678,
          6682.191734729133,
          6568.154922511184,
          2925.971611281614,
          2527.493818169555,
          6722.115687143838,
          6758.060039362362,
          6667.868319390375,
          6682.875410424852,
          6570.346468718367,
          2929.4118642782955,
          2531.2230512850065,
          1781.0621631063789,
          1816.0318745266811
         ]
        }
       ],
       "layout": {
        "legend": {
         "bgcolor": "#F5F6F9",
         "font": {
          "color": "#4D5663"
         }
        },
        "paper_bgcolor": "#F5F6F9",
        "plot_bgcolor": "#F5F6F9",
        "template": {
         "data": {
          "bar": [
           {
            "error_x": {
             "color": "#2a3f5f"
            },
            "error_y": {
             "color": "#2a3f5f"
            },
            "marker": {
             "line": {
              "color": "#E5ECF6",
              "width": 0.5
             }
            },
            "type": "bar"
           }
          ],
          "barpolar": [
           {
            "marker": {
             "line": {
              "color": "#E5ECF6",
              "width": 0.5
             }
            },
            "type": "barpolar"
           }
          ],
          "carpet": [
           {
            "aaxis": {
             "endlinecolor": "#2a3f5f",
             "gridcolor": "white",
             "linecolor": "white",
             "minorgridcolor": "white",
             "startlinecolor": "#2a3f5f"
            },
            "baxis": {
             "endlinecolor": "#2a3f5f",
             "gridcolor": "white",
             "linecolor": "white",
             "minorgridcolor": "white",
             "startlinecolor": "#2a3f5f"
            },
            "type": "carpet"
           }
          ],
          "choropleth": [
           {
            "colorbar": {
             "outlinewidth": 0,
             "ticks": ""
            },
            "type": "choropleth"
           }
          ],
          "contour": [
           {
            "colorbar": {
             "outlinewidth": 0,
             "ticks": ""
            },
            "colorscale": [
             [
              0,
              "#0d0887"
             ],
             [
              0.1111111111111111,
              "#46039f"
             ],
             [
              0.2222222222222222,
              "#7201a8"
             ],
             [
              0.3333333333333333,
              "#9c179e"
             ],
             [
              0.4444444444444444,
              "#bd3786"
             ],
             [
              0.5555555555555556,
              "#d8576b"
             ],
             [
              0.6666666666666666,
              "#ed7953"
             ],
             [
              0.7777777777777778,
              "#fb9f3a"
             ],
             [
              0.8888888888888888,
              "#fdca26"
             ],
             [
              1,
              "#f0f921"
             ]
            ],
            "type": "contour"
           }
          ],
          "contourcarpet": [
           {
            "colorbar": {
             "outlinewidth": 0,
             "ticks": ""
            },
            "type": "contourcarpet"
           }
          ],
          "heatmap": [
           {
            "colorbar": {
             "outlinewidth": 0,
             "ticks": ""
            },
            "colorscale": [
             [
              0,
              "#0d0887"
             ],
             [
              0.1111111111111111,
              "#46039f"
             ],
             [
              0.2222222222222222,
              "#7201a8"
             ],
             [
              0.3333333333333333,
              "#9c179e"
             ],
             [
              0.4444444444444444,
              "#bd3786"
             ],
             [
              0.5555555555555556,
              "#d8576b"
             ],
             [
              0.6666666666666666,
              "#ed7953"
             ],
             [
              0.7777777777777778,
              "#fb9f3a"
             ],
             [
              0.8888888888888888,
              "#fdca26"
             ],
             [
              1,
              "#f0f921"
             ]
            ],
            "type": "heatmap"
           }
          ],
          "heatmapgl": [
           {
            "colorbar": {
             "outlinewidth": 0,
             "ticks": ""
            },
            "colorscale": [
             [
              0,
              "#0d0887"
             ],
             [
              0.1111111111111111,
              "#46039f"
             ],
             [
              0.2222222222222222,
              "#7201a8"
             ],
             [
              0.3333333333333333,
              "#9c179e"
             ],
             [
              0.4444444444444444,
              "#bd3786"
             ],
             [
              0.5555555555555556,
              "#d8576b"
             ],
             [
              0.6666666666666666,
              "#ed7953"
             ],
             [
              0.7777777777777778,
              "#fb9f3a"
             ],
             [
              0.8888888888888888,
              "#fdca26"
             ],
             [
              1,
              "#f0f921"
             ]
            ],
            "type": "heatmapgl"
           }
          ],
          "histogram": [
           {
            "marker": {
             "colorbar": {
              "outlinewidth": 0,
              "ticks": ""
             }
            },
            "type": "histogram"
           }
          ],
          "histogram2d": [
           {
            "colorbar": {
             "outlinewidth": 0,
             "ticks": ""
            },
            "colorscale": [
             [
              0,
              "#0d0887"
             ],
             [
              0.1111111111111111,
              "#46039f"
             ],
             [
              0.2222222222222222,
              "#7201a8"
             ],
             [
              0.3333333333333333,
              "#9c179e"
             ],
             [
              0.4444444444444444,
              "#bd3786"
             ],
             [
              0.5555555555555556,
              "#d8576b"
             ],
             [
              0.6666666666666666,
              "#ed7953"
             ],
             [
              0.7777777777777778,
              "#fb9f3a"
             ],
             [
              0.8888888888888888,
              "#fdca26"
             ],
             [
              1,
              "#f0f921"
             ]
            ],
            "type": "histogram2d"
           }
          ],
          "histogram2dcontour": [
           {
            "colorbar": {
             "outlinewidth": 0,
             "ticks": ""
            },
            "colorscale": [
             [
              0,
              "#0d0887"
             ],
             [
              0.1111111111111111,
              "#46039f"
             ],
             [
              0.2222222222222222,
              "#7201a8"
             ],
             [
              0.3333333333333333,
              "#9c179e"
             ],
             [
              0.4444444444444444,
              "#bd3786"
             ],
             [
              0.5555555555555556,
              "#d8576b"
             ],
             [
              0.6666666666666666,
              "#ed7953"
             ],
             [
              0.7777777777777778,
              "#fb9f3a"
             ],
             [
              0.8888888888888888,
              "#fdca26"
             ],
             [
              1,
              "#f0f921"
             ]
            ],
            "type": "histogram2dcontour"
           }
          ],
          "mesh3d": [
           {
            "colorbar": {
             "outlinewidth": 0,
             "ticks": ""
            },
            "type": "mesh3d"
           }
          ],
          "parcoords": [
           {
            "line": {
             "colorbar": {
              "outlinewidth": 0,
              "ticks": ""
             }
            },
            "type": "parcoords"
           }
          ],
          "pie": [
           {
            "automargin": true,
            "type": "pie"
           }
          ],
          "scatter": [
           {
            "marker": {
             "colorbar": {
              "outlinewidth": 0,
              "ticks": ""
             }
            },
            "type": "scatter"
           }
          ],
          "scatter3d": [
           {
            "line": {
             "colorbar": {
              "outlinewidth": 0,
              "ticks": ""
             }
            },
            "marker": {
             "colorbar": {
              "outlinewidth": 0,
              "ticks": ""
             }
            },
            "type": "scatter3d"
           }
          ],
          "scattercarpet": [
           {
            "marker": {
             "colorbar": {
              "outlinewidth": 0,
              "ticks": ""
             }
            },
            "type": "scattercarpet"
           }
          ],
          "scattergeo": [
           {
            "marker": {
             "colorbar": {
              "outlinewidth": 0,
              "ticks": ""
             }
            },
            "type": "scattergeo"
           }
          ],
          "scattergl": [
           {
            "marker": {
             "colorbar": {
              "outlinewidth": 0,
              "ticks": ""
             }
            },
            "type": "scattergl"
           }
          ],
          "scattermapbox": [
           {
            "marker": {
             "colorbar": {
              "outlinewidth": 0,
              "ticks": ""
             }
            },
            "type": "scattermapbox"
           }
          ],
          "scatterpolar": [
           {
            "marker": {
             "colorbar": {
              "outlinewidth": 0,
              "ticks": ""
             }
            },
            "type": "scatterpolar"
           }
          ],
          "scatterpolargl": [
           {
            "marker": {
             "colorbar": {
              "outlinewidth": 0,
              "ticks": ""
             }
            },
            "type": "scatterpolargl"
           }
          ],
          "scatterternary": [
           {
            "marker": {
             "colorbar": {
              "outlinewidth": 0,
              "ticks": ""
             }
            },
            "type": "scatterternary"
           }
          ],
          "surface": [
           {
            "colorbar": {
             "outlinewidth": 0,
             "ticks": ""
            },
            "colorscale": [
             [
              0,
              "#0d0887"
             ],
             [
              0.1111111111111111,
              "#46039f"
             ],
             [
              0.2222222222222222,
              "#7201a8"
             ],
             [
              0.3333333333333333,
              "#9c179e"
             ],
             [
              0.4444444444444444,
              "#bd3786"
             ],
             [
              0.5555555555555556,
              "#d8576b"
             ],
             [
              0.6666666666666666,
              "#ed7953"
             ],
             [
              0.7777777777777778,
              "#fb9f3a"
             ],
             [
              0.8888888888888888,
              "#fdca26"
             ],
             [
              1,
              "#f0f921"
             ]
            ],
            "type": "surface"
           }
          ],
          "table": [
           {
            "cells": {
             "fill": {
              "color": "#EBF0F8"
             },
             "line": {
              "color": "white"
             }
            },
            "header": {
             "fill": {
              "color": "#C8D4E3"
             },
             "line": {
              "color": "white"
             }
            },
            "type": "table"
           }
          ]
         },
         "layout": {
          "annotationdefaults": {
           "arrowcolor": "#2a3f5f",
           "arrowhead": 0,
           "arrowwidth": 1
          },
          "coloraxis": {
           "colorbar": {
            "outlinewidth": 0,
            "ticks": ""
           }
          },
          "colorscale": {
           "diverging": [
            [
             0,
             "#8e0152"
            ],
            [
             0.1,
             "#c51b7d"
            ],
            [
             0.2,
             "#de77ae"
            ],
            [
             0.3,
             "#f1b6da"
            ],
            [
             0.4,
             "#fde0ef"
            ],
            [
             0.5,
             "#f7f7f7"
            ],
            [
             0.6,
             "#e6f5d0"
            ],
            [
             0.7,
             "#b8e186"
            ],
            [
             0.8,
             "#7fbc41"
            ],
            [
             0.9,
             "#4d9221"
            ],
            [
             1,
             "#276419"
            ]
           ],
           "sequential": [
            [
             0,
             "#0d0887"
            ],
            [
             0.1111111111111111,
             "#46039f"
            ],
            [
             0.2222222222222222,
             "#7201a8"
            ],
            [
             0.3333333333333333,
             "#9c179e"
            ],
            [
             0.4444444444444444,
             "#bd3786"
            ],
            [
             0.5555555555555556,
             "#d8576b"
            ],
            [
             0.6666666666666666,
             "#ed7953"
            ],
            [
             0.7777777777777778,
             "#fb9f3a"
            ],
            [
             0.8888888888888888,
             "#fdca26"
            ],
            [
             1,
             "#f0f921"
            ]
           ],
           "sequentialminus": [
            [
             0,
             "#0d0887"
            ],
            [
             0.1111111111111111,
             "#46039f"
            ],
            [
             0.2222222222222222,
             "#7201a8"
            ],
            [
             0.3333333333333333,
             "#9c179e"
            ],
            [
             0.4444444444444444,
             "#bd3786"
            ],
            [
             0.5555555555555556,
             "#d8576b"
            ],
            [
             0.6666666666666666,
             "#ed7953"
            ],
            [
             0.7777777777777778,
             "#fb9f3a"
            ],
            [
             0.8888888888888888,
             "#fdca26"
            ],
            [
             1,
             "#f0f921"
            ]
           ]
          },
          "colorway": [
           "#636efa",
           "#EF553B",
           "#00cc96",
           "#ab63fa",
           "#FFA15A",
           "#19d3f3",
           "#FF6692",
           "#B6E880",
           "#FF97FF",
           "#FECB52"
          ],
          "font": {
           "color": "#2a3f5f"
          },
          "geo": {
           "bgcolor": "white",
           "lakecolor": "white",
           "landcolor": "#E5ECF6",
           "showlakes": true,
           "showland": true,
           "subunitcolor": "white"
          },
          "hoverlabel": {
           "align": "left"
          },
          "hovermode": "closest",
          "mapbox": {
           "style": "light"
          },
          "paper_bgcolor": "white",
          "plot_bgcolor": "#E5ECF6",
          "polar": {
           "angularaxis": {
            "gridcolor": "white",
            "linecolor": "white",
            "ticks": ""
           },
           "bgcolor": "#E5ECF6",
           "radialaxis": {
            "gridcolor": "white",
            "linecolor": "white",
            "ticks": ""
           }
          },
          "scene": {
           "xaxis": {
            "backgroundcolor": "#E5ECF6",
            "gridcolor": "white",
            "gridwidth": 2,
            "linecolor": "white",
            "showbackground": true,
            "ticks": "",
            "zerolinecolor": "white"
           },
           "yaxis": {
            "backgroundcolor": "#E5ECF6",
            "gridcolor": "white",
            "gridwidth": 2,
            "linecolor": "white",
            "showbackground": true,
            "ticks": "",
            "zerolinecolor": "white"
           },
           "zaxis": {
            "backgroundcolor": "#E5ECF6",
            "gridcolor": "white",
            "gridwidth": 2,
            "linecolor": "white",
            "showbackground": true,
            "ticks": "",
            "zerolinecolor": "white"
           }
          },
          "shapedefaults": {
           "line": {
            "color": "#2a3f5f"
           }
          },
          "ternary": {
           "aaxis": {
            "gridcolor": "white",
            "linecolor": "white",
            "ticks": ""
           },
           "baxis": {
            "gridcolor": "white",
            "linecolor": "white",
            "ticks": ""
           },
           "bgcolor": "#E5ECF6",
           "caxis": {
            "gridcolor": "white",
            "linecolor": "white",
            "ticks": ""
           }
          },
          "title": {
           "x": 0.05
          },
          "xaxis": {
           "automargin": true,
           "gridcolor": "white",
           "linecolor": "white",
           "ticks": "",
           "title": {
            "standoff": 15
           },
           "zerolinecolor": "white",
           "zerolinewidth": 2
          },
          "yaxis": {
           "automargin": true,
           "gridcolor": "white",
           "linecolor": "white",
           "ticks": "",
           "title": {
            "standoff": 15
           },
           "zerolinecolor": "white",
           "zerolinewidth": 2
          }
         }
        },
        "title": {
         "font": {
          "color": "#4D5663"
         }
        },
        "xaxis": {
         "gridcolor": "#E1E5ED",
         "showgrid": true,
         "tickfont": {
          "color": "#4D5663"
         },
         "title": {
          "font": {
           "color": "#4D5663"
          },
          "text": ""
         },
         "zerolinecolor": "#E1E5ED"
        },
        "yaxis": {
         "gridcolor": "#E1E5ED",
         "showgrid": true,
         "tickfont": {
          "color": "#4D5663"
         },
         "title": {
          "font": {
           "color": "#4D5663"
          },
          "text": "kW"
         },
         "zerolinecolor": "#E1E5ED"
        }
       }
      },
      "text/html": [
       "<div>\n",
       "        \n",
       "        \n",
       "            <div id=\"f3f37335-0533-43ef-9d66-1d40828ec783\" class=\"plotly-graph-div\" style=\"height:525px; width:100%;\"></div>\n",
       "            <script type=\"text/javascript\">\n",
       "                require([\"plotly\"], function(Plotly) {\n",
       "                    window.PLOTLYENV=window.PLOTLYENV || {};\n",
       "                    window.PLOTLYENV.BASE_URL='https://plot.ly';\n",
       "                    \n",
       "                if (document.getElementById(\"f3f37335-0533-43ef-9d66-1d40828ec783\")) {\n",
       "                    Plotly.newPlot(\n",
       "                        'f3f37335-0533-43ef-9d66-1d40828ec783',\n",
       "                        [{\"line\": {\"color\": \"rgba(255, 153, 51, 1.0)\", \"dash\": \"solid\", \"shape\": \"linear\", \"width\": 1.3}, \"mode\": \"lines\", \"name\": \"kW_Actual\", \"text\": \"\", \"type\": \"scatter\", \"x\": [\"2019-07-21\", \"2019-07-22\", \"2019-07-23\", \"2019-07-24\", \"2019-07-25\", \"2019-07-26\", \"2019-07-27\", \"2019-07-28\", \"2019-07-29\", \"2019-07-30\", \"2019-07-31\", \"2019-08-01\", \"2019-08-02\", \"2019-08-03\", \"2019-08-04\", \"2019-08-05\", \"2019-08-06\", \"2019-08-07\", \"2019-08-08\", \"2019-08-09\", \"2019-08-10\", \"2019-08-11\", \"2019-08-12\", \"2019-08-13\", \"2019-08-14\", \"2019-08-15\", \"2019-08-16\", \"2019-08-17\", \"2019-08-18\", \"2019-08-19\", \"2019-08-20\", \"2019-08-21\", \"2019-08-22\", \"2019-08-23\", \"2019-08-24\", \"2019-08-25\", \"2019-08-26\", \"2019-08-27\", \"2019-08-28\", \"2019-08-29\", \"2019-08-30\", \"2019-08-31\", \"2019-09-01\", \"2019-09-02\", \"2019-09-03\", \"2019-09-04\", \"2019-09-05\", \"2019-09-06\", \"2019-09-07\", \"2019-09-08\", \"2019-09-09\", \"2019-09-10\", \"2019-09-11\", \"2019-09-12\", \"2019-09-13\", \"2019-09-14\", \"2019-09-15\", \"2019-09-16\", \"2019-09-17\", \"2019-09-18\", \"2019-09-19\", \"2019-09-20\", \"2019-09-21\", \"2019-09-22\", \"2019-09-23\", \"2019-09-24\", \"2019-09-25\", \"2019-09-26\", \"2019-09-27\", \"2019-09-28\", \"2019-09-29\", \"2019-09-30\", \"2019-10-01\", \"2019-10-02\", \"2019-10-03\", \"2019-10-04\", \"2019-10-05\", \"2019-10-06\", \"2019-10-07\", \"2019-10-08\", \"2019-10-09\", \"2019-10-10\", \"2019-10-11\", \"2019-10-12\", \"2019-10-13\", \"2019-10-14\", \"2019-10-15\", \"2019-10-16\", \"2019-10-17\", \"2019-10-18\", \"2019-10-19\", \"2019-10-20\", \"2019-10-21\", \"2019-10-22\", \"2019-10-23\", \"2019-10-24\", \"2019-10-25\", \"2019-10-26\", \"2019-10-27\", \"2019-10-28\", \"2019-10-29\", \"2019-10-30\", \"2019-10-31\", \"2019-11-01\", \"2019-11-02\", \"2019-11-03\", \"2019-11-04\", \"2019-11-05\", \"2019-11-06\", \"2019-11-07\", \"2019-11-08\", \"2019-11-09\", \"2019-11-10\", \"2019-11-11\", \"2019-11-12\", \"2019-11-13\", \"2019-11-14\", \"2019-11-15\", \"2019-11-16\", \"2019-11-17\", \"2019-11-18\", \"2019-11-19\", \"2019-11-20\", \"2019-11-21\", \"2019-11-22\", \"2019-11-23\", \"2019-11-24\", \"2019-11-25\", \"2019-11-26\", \"2019-11-27\", \"2019-11-28\", \"2019-11-29\", \"2019-11-30\", \"2019-12-01\", \"2019-12-02\", \"2019-12-03\", \"2019-12-04\", \"2019-12-05\", \"2019-12-05\", \"2019-12-06\", \"2019-12-07\", \"2019-12-08\", \"2019-12-09\", \"2019-12-10\", \"2019-12-11\", \"2019-12-12\", \"2019-12-13\", \"2019-12-14\", \"2019-12-15\", \"2019-12-16\", \"2019-12-17\", \"2019-12-18\", \"2019-12-19\", \"2019-12-20\", \"2019-12-21\", \"2019-12-22\", \"2019-12-23\", \"2019-12-24\", \"2019-12-25\", \"2019-12-26\", \"2019-12-27\", \"2019-12-28\", \"2019-12-29\", \"2019-12-30\", \"2019-12-31\"], \"y\": [3209.2000000000003, 8463.83, 8706.77, 7381.35, 7517.539999999999, 7635.81, 4129.790000000001, 2488.04, 2971.53, 8435.76, 8010.359999999999, 6950.27, 7368.570000000001, 3887.6299999999997, 2419.8500000000004, 7060.84, 7400.18, 7049.160000000001, 6999.29, 7350.09, 3450.8900000000003, 2840.3199999999997, 3173.3, 8040.15, 7589.0, 6984.31, 6910.99, 2828.2000000000003, 3804.9, 8308.35, 7961.740000000001, 7706.48, 7623.43, 7585.470000000001, 3923.0600000000004, 2823.61, 7881.07, 8077.280000000001, 7253.370000000001, 7023.990000000001, 6732.29, 4737.95, 3429.56, 7326.79, 7162.66, 6474.58, 6495.78, 6971.379999999999, 4038.2, 3081.3800000000006, 7271.9, 7219.22, 7083.61, 6838.37, 7190.9800000000005, 3731.61, 2402.47, 5983.3099999999995, 6934.420000000001, 7326.549999999999, 6949.5599999999995, 6313.470000000001, 3428.9399999999996, 3009.83, 6315.14, 6738.329999999999, 7101.35, 7437.33, 6877.360000000001, 2762.03, 2505.8499999999995, 7709.12, 7518.23, 7469.57, 7625.619999999999, 6557.31, 2843.19, 1969.7700000000002, 6949.450000000001, 7128.4, 6722.900000000001, 6705.339999999999, 6841.91, 3275.07, 2900.76, 3018.98, 8282.33, 7456.110000000001, 7382.9800000000005, 7454.669999999999, 3078.32, 2827.73, 7643.709999999999, 7380.740000000001, 2568.23, 7071.56, 7454.63, 2990.46, 3272.02, 7407.84, 6893.459999999999, 6067.3099999999995, 6140.37, 6434.469999999999, 3166.3100000000004, 2994.559999999999, 6350.4, 6505.3099999999995, 6744.18, 6068.24, 5856.209999999999, 2337.5999999999995, 2064.46, 5732.57, 6346.460000000001, 5628.4400000000005, 6453.75, 6050.380000000001, 2730.96, 2729.3799999999997, 6606.139999999999, 6427.1, 6094.57, 6173.08, 6421.839999999999, 2832.4700000000003, 2097.88, 6201.91, 6034.34, 6131.0199999999995, 6057.759999999999, 6438.71, 2661.81, 2322.83, 6677.72, 6177.67, 5219.37, 2095.4900000000002, 2095.4900000000002, 5307.18, 2521.64, 2323.7400000000002, 4929.49, 1725.3899999999999, 5049.209999999999, 5192.09, 5174.28, 2396.2000000000003, 2496.59, 6637.5599999999995, 6905.759999999999, 5984.52, 6181.35, 6608.050000000001, 2139.35, 2342.1800000000003, 6808.969999999999, 6111.030000000001, 6275.1, 6331.14, 6358.84, 3021.9700000000007, 2660.1, 2241.3, 2228.02]}, {\"line\": {\"color\": \"rgba(55, 128, 191, 1.0)\", \"dash\": \"solid\", \"shape\": \"linear\", \"width\": 1.3}, \"mode\": \"lines\", \"name\": \"kW_Predicted\", \"text\": \"\", \"type\": \"scatter\", \"x\": [\"2019-07-21\", \"2019-07-22\", \"2019-07-23\", \"2019-07-24\", \"2019-07-25\", \"2019-07-26\", \"2019-07-27\", \"2019-07-28\", \"2019-07-29\", \"2019-07-30\", \"2019-07-31\", \"2019-08-01\", \"2019-08-02\", \"2019-08-03\", \"2019-08-04\", \"2019-08-05\", \"2019-08-06\", \"2019-08-07\", \"2019-08-08\", \"2019-08-09\", \"2019-08-10\", \"2019-08-11\", \"2019-08-12\", \"2019-08-13\", \"2019-08-14\", \"2019-08-15\", \"2019-08-16\", \"2019-08-17\", \"2019-08-18\", \"2019-08-19\", \"2019-08-20\", \"2019-08-21\", \"2019-08-22\", \"2019-08-23\", \"2019-08-24\", \"2019-08-25\", \"2019-08-26\", \"2019-08-27\", \"2019-08-28\", \"2019-08-29\", \"2019-08-30\", \"2019-08-31\", \"2019-09-01\", \"2019-09-02\", \"2019-09-03\", \"2019-09-04\", \"2019-09-05\", \"2019-09-06\", \"2019-09-07\", \"2019-09-08\", \"2019-09-09\", \"2019-09-10\", \"2019-09-11\", \"2019-09-12\", \"2019-09-13\", \"2019-09-14\", \"2019-09-15\", \"2019-09-16\", \"2019-09-17\", \"2019-09-18\", \"2019-09-19\", \"2019-09-20\", \"2019-09-21\", \"2019-09-22\", \"2019-09-23\", \"2019-09-24\", \"2019-09-25\", \"2019-09-26\", \"2019-09-27\", \"2019-09-28\", \"2019-09-29\", \"2019-09-30\", \"2019-10-01\", \"2019-10-02\", \"2019-10-03\", \"2019-10-04\", \"2019-10-05\", \"2019-10-06\", \"2019-10-07\", \"2019-10-08\", \"2019-10-09\", \"2019-10-10\", \"2019-10-11\", \"2019-10-12\", \"2019-10-13\", \"2019-10-14\", \"2019-10-15\", \"2019-10-16\", \"2019-10-17\", \"2019-10-18\", \"2019-10-19\", \"2019-10-20\", \"2019-10-21\", \"2019-10-22\", \"2019-10-23\", \"2019-10-24\", \"2019-10-25\", \"2019-10-26\", \"2019-10-27\", \"2019-10-28\", \"2019-10-29\", \"2019-10-30\", \"2019-10-31\", \"2019-11-01\", \"2019-11-02\", \"2019-11-03\", \"2019-11-04\", \"2019-11-05\", \"2019-11-06\", \"2019-11-07\", \"2019-11-08\", \"2019-11-09\", \"2019-11-10\", \"2019-11-11\", \"2019-11-12\", \"2019-11-13\", \"2019-11-14\", \"2019-11-15\", \"2019-11-16\", \"2019-11-17\", \"2019-11-18\", \"2019-11-19\", \"2019-11-20\", \"2019-11-21\", \"2019-11-22\", \"2019-11-23\", \"2019-11-24\", \"2019-11-25\", \"2019-11-26\", \"2019-11-27\", \"2019-11-28\", \"2019-11-29\", \"2019-11-30\", \"2019-12-01\", \"2019-12-02\", \"2019-12-03\", \"2019-12-04\", \"2019-12-05\", \"2019-12-05\", \"2019-12-06\", \"2019-12-07\", \"2019-12-08\", \"2019-12-09\", \"2019-12-10\", \"2019-12-11\", \"2019-12-12\", \"2019-12-13\", \"2019-12-14\", \"2019-12-15\", \"2019-12-16\", \"2019-12-17\", \"2019-12-18\", \"2019-12-19\", \"2019-12-20\", \"2019-12-21\", \"2019-12-22\", \"2019-12-23\", \"2019-12-24\", \"2019-12-25\", \"2019-12-26\", \"2019-12-27\", \"2019-12-28\", \"2019-12-29\", \"2019-12-30\", \"2019-12-31\"], \"y\": [3500.5127013131587, 7571.311838861785, 7659.550474531605, 7728.4158871813615, 7622.593851620561, 7548.544197690052, 3923.403192334944, 3424.2972167307166, 7729.687452976312, 7665.051083486068, 7552.14388931973, 7398.224919951721, 7164.129255880027, 3616.5430202710386, 3147.1421796621644, 7290.765449375971, 7398.432033068045, 7203.987201569945, 7260.247035355567, 7127.89467755726, 3400.205382274215, 3084.234323051911, 2998.298894540145, 7246.071904419775, 7172.9524810669345, 7121.290892301388, 7079.842596616134, 3412.7964685296574, 3003.8036497354597, 7249.157638993741, 7235.802989275556, 7208.6513355163415, 7217.08595661062, 7090.101950231319, 3496.7043687276355, 3068.379648517078, 7305.282284013585, 7350.592223941934, 7236.405806360731, 7307.685480897859, 7170.186271929697, 3560.5091153371027, 2750.751665200015, 6918.237397708537, 6999.663764621101, 6893.432421192806, 6908.954084382858, 6818.11114172788, 3134.100530857292, 2766.7219611645673, 6948.831939672903, 6963.584903569907, 6892.044550137181, 6872.214582251435, 6769.710468772536, 3129.601846057899, 2698.2284968583017, 6911.519509534698, 6920.219311391854, 6829.815128260884, 6847.2072147827, 6704.447111132295, 3071.8530092818196, 2659.311465897502, 6847.068474631218, 6889.808504113272, 6775.584639486902, 6803.295010309889, 6685.525754814236, 3041.322326894866, 2654.233688431099, 6836.351623286354, 6587.414800684683, 6503.112943493526, 6511.690858961342, 6415.4699579488915, 2764.081054575103, 2376.092601799033, 6581.976589317482, 6609.296318228247, 6534.395332264212, 6548.0409552214105, 6438.751973634275, 2813.1510993183474, 2404.5764654076816, 3307.4431217690617, 6648.5371713044215, 6556.725161303521, 6582.1150526259335, 6460.057155844181, 2821.0008479376697, 2424.6567019390995, 6612.636885613022, 6652.869584802726, 2110.8111320572793, 6567.532087735865, 6455.110661117963, 2806.496757968956, 2408.325745295879, 6597.052111041309, 6628.106311372152, 6539.212882172691, 6545.01197116341, 5740.4123774335285, 2093.116917527027, 1689.8383796519574, 2381.9773167973003, 2409.255664073595, 5824.13681763524, 5838.592342026439, 5721.027838825732, 2085.2173813600857, 1681.2939511661934, 5877.877054347351, 5915.950890337665, 5823.291171471745, 5843.322495252646, 5729.170267058834, 2087.8407943047587, 1694.2093927857009, 5888.267767202186, 5927.2573283855, 5838.097650058734, 5853.823252430331, 5745.358660606767, 2104.5812781529626, 1707.5197677987978, 5905.157312444545, 5939.793828485658, 5853.175530087215, 5867.4461179497375, 5754.505650336798, 2113.860382728108, 2546.719238393682, 6743.666067081317, 6776.7609677015325, 6684.8420056224895, 2073.7974266108276, 2071.1453697446573, 6584.967007501369, 2941.481066999716, 2539.8543273953896, 6735.430622168166, 2807.549000143108, 6676.038975647958, 6689.742240279474, 6572.892908609181, 2932.112946752251, 2530.4885360446424, 6724.640572448692, 6759.000094532175, 6666.497019029678, 6682.191734729133, 6568.154922511184, 2925.971611281614, 2527.493818169555, 6722.115687143838, 6758.060039362362, 6667.868319390375, 6682.875410424852, 6570.346468718367, 2929.4118642782955, 2531.2230512850065, 1781.0621631063789, 1816.0318745266811]}],\n",
       "                        {\"legend\": {\"bgcolor\": \"#F5F6F9\", \"font\": {\"color\": \"#4D5663\"}}, \"paper_bgcolor\": \"#F5F6F9\", \"plot_bgcolor\": \"#F5F6F9\", \"template\": {\"data\": {\"bar\": [{\"error_x\": {\"color\": \"#2a3f5f\"}, \"error_y\": {\"color\": \"#2a3f5f\"}, \"marker\": {\"line\": {\"color\": \"#E5ECF6\", \"width\": 0.5}}, \"type\": \"bar\"}], \"barpolar\": [{\"marker\": {\"line\": {\"color\": \"#E5ECF6\", \"width\": 0.5}}, \"type\": \"barpolar\"}], \"carpet\": [{\"aaxis\": {\"endlinecolor\": \"#2a3f5f\", \"gridcolor\": \"white\", \"linecolor\": \"white\", \"minorgridcolor\": \"white\", \"startlinecolor\": \"#2a3f5f\"}, \"baxis\": {\"endlinecolor\": \"#2a3f5f\", \"gridcolor\": \"white\", \"linecolor\": \"white\", \"minorgridcolor\": \"white\", \"startlinecolor\": \"#2a3f5f\"}, \"type\": \"carpet\"}], \"choropleth\": [{\"colorbar\": {\"outlinewidth\": 0, \"ticks\": \"\"}, \"type\": \"choropleth\"}], \"contour\": [{\"colorbar\": {\"outlinewidth\": 0, \"ticks\": \"\"}, \"colorscale\": [[0.0, \"#0d0887\"], [0.1111111111111111, \"#46039f\"], [0.2222222222222222, \"#7201a8\"], [0.3333333333333333, \"#9c179e\"], [0.4444444444444444, \"#bd3786\"], [0.5555555555555556, \"#d8576b\"], [0.6666666666666666, \"#ed7953\"], [0.7777777777777778, \"#fb9f3a\"], [0.8888888888888888, \"#fdca26\"], [1.0, \"#f0f921\"]], \"type\": \"contour\"}], \"contourcarpet\": [{\"colorbar\": {\"outlinewidth\": 0, \"ticks\": \"\"}, \"type\": \"contourcarpet\"}], \"heatmap\": [{\"colorbar\": {\"outlinewidth\": 0, \"ticks\": \"\"}, \"colorscale\": [[0.0, \"#0d0887\"], [0.1111111111111111, \"#46039f\"], [0.2222222222222222, \"#7201a8\"], [0.3333333333333333, \"#9c179e\"], [0.4444444444444444, \"#bd3786\"], [0.5555555555555556, \"#d8576b\"], [0.6666666666666666, \"#ed7953\"], [0.7777777777777778, \"#fb9f3a\"], [0.8888888888888888, \"#fdca26\"], [1.0, \"#f0f921\"]], \"type\": \"heatmap\"}], \"heatmapgl\": [{\"colorbar\": {\"outlinewidth\": 0, \"ticks\": \"\"}, \"colorscale\": [[0.0, \"#0d0887\"], [0.1111111111111111, \"#46039f\"], [0.2222222222222222, \"#7201a8\"], [0.3333333333333333, \"#9c179e\"], [0.4444444444444444, \"#bd3786\"], [0.5555555555555556, \"#d8576b\"], [0.6666666666666666, \"#ed7953\"], [0.7777777777777778, \"#fb9f3a\"], [0.8888888888888888, \"#fdca26\"], [1.0, \"#f0f921\"]], \"type\": \"heatmapgl\"}], \"histogram\": [{\"marker\": {\"colorbar\": {\"outlinewidth\": 0, \"ticks\": \"\"}}, \"type\": \"histogram\"}], \"histogram2d\": [{\"colorbar\": {\"outlinewidth\": 0, \"ticks\": \"\"}, \"colorscale\": [[0.0, \"#0d0887\"], [0.1111111111111111, \"#46039f\"], [0.2222222222222222, \"#7201a8\"], [0.3333333333333333, \"#9c179e\"], [0.4444444444444444, \"#bd3786\"], [0.5555555555555556, \"#d8576b\"], [0.6666666666666666, \"#ed7953\"], [0.7777777777777778, \"#fb9f3a\"], [0.8888888888888888, \"#fdca26\"], [1.0, \"#f0f921\"]], \"type\": \"histogram2d\"}], \"histogram2dcontour\": [{\"colorbar\": {\"outlinewidth\": 0, \"ticks\": \"\"}, \"colorscale\": [[0.0, \"#0d0887\"], [0.1111111111111111, \"#46039f\"], [0.2222222222222222, \"#7201a8\"], [0.3333333333333333, \"#9c179e\"], [0.4444444444444444, \"#bd3786\"], [0.5555555555555556, \"#d8576b\"], [0.6666666666666666, \"#ed7953\"], [0.7777777777777778, \"#fb9f3a\"], [0.8888888888888888, \"#fdca26\"], [1.0, \"#f0f921\"]], \"type\": \"histogram2dcontour\"}], \"mesh3d\": [{\"colorbar\": {\"outlinewidth\": 0, \"ticks\": \"\"}, \"type\": \"mesh3d\"}], \"parcoords\": [{\"line\": {\"colorbar\": {\"outlinewidth\": 0, \"ticks\": \"\"}}, \"type\": \"parcoords\"}], \"pie\": [{\"automargin\": true, \"type\": \"pie\"}], \"scatter\": [{\"marker\": {\"colorbar\": {\"outlinewidth\": 0, \"ticks\": \"\"}}, \"type\": \"scatter\"}], \"scatter3d\": [{\"line\": {\"colorbar\": {\"outlinewidth\": 0, \"ticks\": \"\"}}, \"marker\": {\"colorbar\": {\"outlinewidth\": 0, \"ticks\": \"\"}}, \"type\": \"scatter3d\"}], \"scattercarpet\": [{\"marker\": {\"colorbar\": {\"outlinewidth\": 0, \"ticks\": \"\"}}, \"type\": \"scattercarpet\"}], \"scattergeo\": [{\"marker\": {\"colorbar\": {\"outlinewidth\": 0, \"ticks\": \"\"}}, \"type\": \"scattergeo\"}], \"scattergl\": [{\"marker\": {\"colorbar\": {\"outlinewidth\": 0, \"ticks\": \"\"}}, \"type\": \"scattergl\"}], \"scattermapbox\": [{\"marker\": {\"colorbar\": {\"outlinewidth\": 0, \"ticks\": \"\"}}, \"type\": \"scattermapbox\"}], \"scatterpolar\": [{\"marker\": {\"colorbar\": {\"outlinewidth\": 0, \"ticks\": \"\"}}, \"type\": \"scatterpolar\"}], \"scatterpolargl\": [{\"marker\": {\"colorbar\": {\"outlinewidth\": 0, \"ticks\": \"\"}}, \"type\": \"scatterpolargl\"}], \"scatterternary\": [{\"marker\": {\"colorbar\": {\"outlinewidth\": 0, \"ticks\": \"\"}}, \"type\": \"scatterternary\"}], \"surface\": [{\"colorbar\": {\"outlinewidth\": 0, \"ticks\": \"\"}, \"colorscale\": [[0.0, \"#0d0887\"], [0.1111111111111111, \"#46039f\"], [0.2222222222222222, \"#7201a8\"], [0.3333333333333333, \"#9c179e\"], [0.4444444444444444, \"#bd3786\"], [0.5555555555555556, \"#d8576b\"], [0.6666666666666666, \"#ed7953\"], [0.7777777777777778, \"#fb9f3a\"], [0.8888888888888888, \"#fdca26\"], [1.0, \"#f0f921\"]], \"type\": \"surface\"}], \"table\": [{\"cells\": {\"fill\": {\"color\": \"#EBF0F8\"}, \"line\": {\"color\": \"white\"}}, \"header\": {\"fill\": {\"color\": \"#C8D4E3\"}, \"line\": {\"color\": \"white\"}}, \"type\": \"table\"}]}, \"layout\": {\"annotationdefaults\": {\"arrowcolor\": \"#2a3f5f\", \"arrowhead\": 0, \"arrowwidth\": 1}, \"coloraxis\": {\"colorbar\": {\"outlinewidth\": 0, \"ticks\": \"\"}}, \"colorscale\": {\"diverging\": [[0, \"#8e0152\"], [0.1, \"#c51b7d\"], [0.2, \"#de77ae\"], [0.3, \"#f1b6da\"], [0.4, \"#fde0ef\"], [0.5, \"#f7f7f7\"], [0.6, \"#e6f5d0\"], [0.7, \"#b8e186\"], [0.8, \"#7fbc41\"], [0.9, \"#4d9221\"], [1, \"#276419\"]], \"sequential\": [[0.0, \"#0d0887\"], [0.1111111111111111, \"#46039f\"], [0.2222222222222222, \"#7201a8\"], [0.3333333333333333, \"#9c179e\"], [0.4444444444444444, \"#bd3786\"], [0.5555555555555556, \"#d8576b\"], [0.6666666666666666, \"#ed7953\"], [0.7777777777777778, \"#fb9f3a\"], [0.8888888888888888, \"#fdca26\"], [1.0, \"#f0f921\"]], \"sequentialminus\": [[0.0, \"#0d0887\"], [0.1111111111111111, \"#46039f\"], [0.2222222222222222, \"#7201a8\"], [0.3333333333333333, \"#9c179e\"], [0.4444444444444444, \"#bd3786\"], [0.5555555555555556, \"#d8576b\"], [0.6666666666666666, \"#ed7953\"], [0.7777777777777778, \"#fb9f3a\"], [0.8888888888888888, \"#fdca26\"], [1.0, \"#f0f921\"]]}, \"colorway\": [\"#636efa\", \"#EF553B\", \"#00cc96\", \"#ab63fa\", \"#FFA15A\", \"#19d3f3\", \"#FF6692\", \"#B6E880\", \"#FF97FF\", \"#FECB52\"], \"font\": {\"color\": \"#2a3f5f\"}, \"geo\": {\"bgcolor\": \"white\", \"lakecolor\": \"white\", \"landcolor\": \"#E5ECF6\", \"showlakes\": true, \"showland\": true, \"subunitcolor\": \"white\"}, \"hoverlabel\": {\"align\": \"left\"}, \"hovermode\": \"closest\", \"mapbox\": {\"style\": \"light\"}, \"paper_bgcolor\": \"white\", \"plot_bgcolor\": \"#E5ECF6\", \"polar\": {\"angularaxis\": {\"gridcolor\": \"white\", \"linecolor\": \"white\", \"ticks\": \"\"}, \"bgcolor\": \"#E5ECF6\", \"radialaxis\": {\"gridcolor\": \"white\", \"linecolor\": \"white\", \"ticks\": \"\"}}, \"scene\": {\"xaxis\": {\"backgroundcolor\": \"#E5ECF6\", \"gridcolor\": \"white\", \"gridwidth\": 2, \"linecolor\": \"white\", \"showbackground\": true, \"ticks\": \"\", \"zerolinecolor\": \"white\"}, \"yaxis\": {\"backgroundcolor\": \"#E5ECF6\", \"gridcolor\": \"white\", \"gridwidth\": 2, \"linecolor\": \"white\", \"showbackground\": true, \"ticks\": \"\", \"zerolinecolor\": \"white\"}, \"zaxis\": {\"backgroundcolor\": \"#E5ECF6\", \"gridcolor\": \"white\", \"gridwidth\": 2, \"linecolor\": \"white\", \"showbackground\": true, \"ticks\": \"\", \"zerolinecolor\": \"white\"}}, \"shapedefaults\": {\"line\": {\"color\": \"#2a3f5f\"}}, \"ternary\": {\"aaxis\": {\"gridcolor\": \"white\", \"linecolor\": \"white\", \"ticks\": \"\"}, \"baxis\": {\"gridcolor\": \"white\", \"linecolor\": \"white\", \"ticks\": \"\"}, \"bgcolor\": \"#E5ECF6\", \"caxis\": {\"gridcolor\": \"white\", \"linecolor\": \"white\", \"ticks\": \"\"}}, \"title\": {\"x\": 0.05}, \"xaxis\": {\"automargin\": true, \"gridcolor\": \"white\", \"linecolor\": \"white\", \"ticks\": \"\", \"title\": {\"standoff\": 15}, \"zerolinecolor\": \"white\", \"zerolinewidth\": 2}, \"yaxis\": {\"automargin\": true, \"gridcolor\": \"white\", \"linecolor\": \"white\", \"ticks\": \"\", \"title\": {\"standoff\": 15}, \"zerolinecolor\": \"white\", \"zerolinewidth\": 2}}}, \"title\": {\"font\": {\"color\": \"#4D5663\"}}, \"xaxis\": {\"gridcolor\": \"#E1E5ED\", \"showgrid\": true, \"tickfont\": {\"color\": \"#4D5663\"}, \"title\": {\"font\": {\"color\": \"#4D5663\"}, \"text\": \"\"}, \"zerolinecolor\": \"#E1E5ED\"}, \"yaxis\": {\"gridcolor\": \"#E1E5ED\", \"showgrid\": true, \"tickfont\": {\"color\": \"#4D5663\"}, \"title\": {\"font\": {\"color\": \"#4D5663\"}, \"text\": \"kW\"}, \"zerolinecolor\": \"#E1E5ED\"}},\n",
       "                        {\"showLink\": true, \"linkText\": \"Export to plot.ly\", \"plotlyServerURL\": \"https://plot.ly\", \"responsive\": true}\n",
       "                    ).then(function(){\n",
       "                            \n",
       "var gd = document.getElementById('f3f37335-0533-43ef-9d66-1d40828ec783');\n",
       "var x = new MutationObserver(function (mutations, observer) {{\n",
       "        var display = window.getComputedStyle(gd).display;\n",
       "        if (!display || display === 'none') {{\n",
       "            console.log([gd, 'removed!']);\n",
       "            Plotly.purge(gd);\n",
       "            observer.disconnect();\n",
       "        }}\n",
       "}});\n",
       "\n",
       "// Listen for the removal of the full notebook cells\n",
       "var notebookContainer = gd.closest('#notebook-container');\n",
       "if (notebookContainer) {{\n",
       "    x.observe(notebookContainer, {childList: true});\n",
       "}}\n",
       "\n",
       "// Listen for the clearing of the current output cell\n",
       "var outputEl = gd.closest('.output');\n",
       "if (outputEl) {{\n",
       "    x.observe(outputEl, {childList: true});\n",
       "}}\n",
       "\n",
       "                        })\n",
       "                };\n",
       "                });\n",
       "            </script>\n",
       "        </div>"
      ]
     },
     "metadata": {},
     "output_type": "display_data"
    }
   ],
   "source": [
    "#Plot predicted values agains Actual values\n",
    "df_pre_new[['kW_Actual','kW_Predicted']].iplot(yTitle='kW')"
   ]
  },
  {
   "cell_type": "code",
   "execution_count": 37,
   "metadata": {},
   "outputs": [
    {
     "name": "stdout",
     "output_type": "stream",
     "text": [
      "The root mean precent error is: \n",
      "12.1%\n"
     ]
    }
   ],
   "source": [
    "residuals = df_pre_new['kW_Predicted']- df_pre_new['kW_Actual']\n",
    "mspe = round(np.mean(abs(residuals/df_pre_new['kW_Actual'])),4)*100\n",
    "print(f'The root mean precent error is: \\n{(mspe)}%')"
   ]
  }
 ],
 "metadata": {
  "kernelspec": {
   "display_name": "Python 3",
   "language": "python",
   "name": "python3"
  },
  "language_info": {
   "codemirror_mode": {
    "name": "ipython",
    "version": 3
   },
   "file_extension": ".py",
   "mimetype": "text/x-python",
   "name": "python",
   "nbconvert_exporter": "python",
   "pygments_lexer": "ipython3",
   "version": "3.8.1"
  }
 },
 "nbformat": 4,
 "nbformat_minor": 4
}
